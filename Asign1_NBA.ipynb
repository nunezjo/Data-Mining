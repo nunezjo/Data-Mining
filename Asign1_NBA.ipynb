{
  "nbformat": 4,
  "nbformat_minor": 0,
  "metadata": {
    "colab": {
      "name": "Asign1_NBA.ipynb",
      "provenance": [],
      "collapsed_sections": []
    },
    "kernelspec": {
      "name": "python3",
      "display_name": "Python 3"
    },
    "language_info": {
      "name": "python"
    }
  },
  "cells": [
    {
      "cell_type": "code",
      "execution_count": null,
      "metadata": {
        "colab": {
          "resources": {
            "http://localhost:8080/nbextensions/google.colab/files.js": {
              "data": "Ly8gQ29weXJpZ2h0IDIwMTcgR29vZ2xlIExMQwovLwovLyBMaWNlbnNlZCB1bmRlciB0aGUgQXBhY2hlIExpY2Vuc2UsIFZlcnNpb24gMi4wICh0aGUgIkxpY2Vuc2UiKTsKLy8geW91IG1heSBub3QgdXNlIHRoaXMgZmlsZSBleGNlcHQgaW4gY29tcGxpYW5jZSB3aXRoIHRoZSBMaWNlbnNlLgovLyBZb3UgbWF5IG9idGFpbiBhIGNvcHkgb2YgdGhlIExpY2Vuc2UgYXQKLy8KLy8gICAgICBodHRwOi8vd3d3LmFwYWNoZS5vcmcvbGljZW5zZXMvTElDRU5TRS0yLjAKLy8KLy8gVW5sZXNzIHJlcXVpcmVkIGJ5IGFwcGxpY2FibGUgbGF3IG9yIGFncmVlZCB0byBpbiB3cml0aW5nLCBzb2Z0d2FyZQovLyBkaXN0cmlidXRlZCB1bmRlciB0aGUgTGljZW5zZSBpcyBkaXN0cmlidXRlZCBvbiBhbiAiQVMgSVMiIEJBU0lTLAovLyBXSVRIT1VUIFdBUlJBTlRJRVMgT1IgQ09ORElUSU9OUyBPRiBBTlkgS0lORCwgZWl0aGVyIGV4cHJlc3Mgb3IgaW1wbGllZC4KLy8gU2VlIHRoZSBMaWNlbnNlIGZvciB0aGUgc3BlY2lmaWMgbGFuZ3VhZ2UgZ292ZXJuaW5nIHBlcm1pc3Npb25zIGFuZAovLyBsaW1pdGF0aW9ucyB1bmRlciB0aGUgTGljZW5zZS4KCi8qKgogKiBAZmlsZW92ZXJ2aWV3IEhlbHBlcnMgZm9yIGdvb2dsZS5jb2xhYiBQeXRob24gbW9kdWxlLgogKi8KKGZ1bmN0aW9uKHNjb3BlKSB7CmZ1bmN0aW9uIHNwYW4odGV4dCwgc3R5bGVBdHRyaWJ1dGVzID0ge30pIHsKICBjb25zdCBlbGVtZW50ID0gZG9jdW1lbnQuY3JlYXRlRWxlbWVudCgnc3BhbicpOwogIGVsZW1lbnQudGV4dENvbnRlbnQgPSB0ZXh0OwogIGZvciAoY29uc3Qga2V5IG9mIE9iamVjdC5rZXlzKHN0eWxlQXR0cmlidXRlcykpIHsKICAgIGVsZW1lbnQuc3R5bGVba2V5XSA9IHN0eWxlQXR0cmlidXRlc1trZXldOwogIH0KICByZXR1cm4gZWxlbWVudDsKfQoKLy8gTWF4IG51bWJlciBvZiBieXRlcyB3aGljaCB3aWxsIGJlIHVwbG9hZGVkIGF0IGEgdGltZS4KY29uc3QgTUFYX1BBWUxPQURfU0laRSA9IDEwMCAqIDEwMjQ7CgpmdW5jdGlvbiBfdXBsb2FkRmlsZXMoaW5wdXRJZCwgb3V0cHV0SWQpIHsKICBjb25zdCBzdGVwcyA9IHVwbG9hZEZpbGVzU3RlcChpbnB1dElkLCBvdXRwdXRJZCk7CiAgY29uc3Qgb3V0cHV0RWxlbWVudCA9IGRvY3VtZW50LmdldEVsZW1lbnRCeUlkKG91dHB1dElkKTsKICAvLyBDYWNoZSBzdGVwcyBvbiB0aGUgb3V0cHV0RWxlbWVudCB0byBtYWtlIGl0IGF2YWlsYWJsZSBmb3IgdGhlIG5leHQgY2FsbAogIC8vIHRvIHVwbG9hZEZpbGVzQ29udGludWUgZnJvbSBQeXRob24uCiAgb3V0cHV0RWxlbWVudC5zdGVwcyA9IHN0ZXBzOwoKICByZXR1cm4gX3VwbG9hZEZpbGVzQ29udGludWUob3V0cHV0SWQpOwp9CgovLyBUaGlzIGlzIHJvdWdobHkgYW4gYXN5bmMgZ2VuZXJhdG9yIChub3Qgc3VwcG9ydGVkIGluIHRoZSBicm93c2VyIHlldCksCi8vIHdoZXJlIHRoZXJlIGFyZSBtdWx0aXBsZSBhc3luY2hyb25vdXMgc3RlcHMgYW5kIHRoZSBQeXRob24gc2lkZSBpcyBnb2luZwovLyB0byBwb2xsIGZvciBjb21wbGV0aW9uIG9mIGVhY2ggc3RlcC4KLy8gVGhpcyB1c2VzIGEgUHJvbWlzZSB0byBibG9jayB0aGUgcHl0aG9uIHNpZGUgb24gY29tcGxldGlvbiBvZiBlYWNoIHN0ZXAsCi8vIHRoZW4gcGFzc2VzIHRoZSByZXN1bHQgb2YgdGhlIHByZXZpb3VzIHN0ZXAgYXMgdGhlIGlucHV0IHRvIHRoZSBuZXh0IHN0ZXAuCmZ1bmN0aW9uIF91cGxvYWRGaWxlc0NvbnRpbnVlKG91dHB1dElkKSB7CiAgY29uc3Qgb3V0cHV0RWxlbWVudCA9IGRvY3VtZW50LmdldEVsZW1lbnRCeUlkKG91dHB1dElkKTsKICBjb25zdCBzdGVwcyA9IG91dHB1dEVsZW1lbnQuc3RlcHM7CgogIGNvbnN0IG5leHQgPSBzdGVwcy5uZXh0KG91dHB1dEVsZW1lbnQubGFzdFByb21pc2VWYWx1ZSk7CiAgcmV0dXJuIFByb21pc2UucmVzb2x2ZShuZXh0LnZhbHVlLnByb21pc2UpLnRoZW4oKHZhbHVlKSA9PiB7CiAgICAvLyBDYWNoZSB0aGUgbGFzdCBwcm9taXNlIHZhbHVlIHRvIG1ha2UgaXQgYXZhaWxhYmxlIHRvIHRoZSBuZXh0CiAgICAvLyBzdGVwIG9mIHRoZSBnZW5lcmF0b3IuCiAgICBvdXRwdXRFbGVtZW50Lmxhc3RQcm9taXNlVmFsdWUgPSB2YWx1ZTsKICAgIHJldHVybiBuZXh0LnZhbHVlLnJlc3BvbnNlOwogIH0pOwp9CgovKioKICogR2VuZXJhdG9yIGZ1bmN0aW9uIHdoaWNoIGlzIGNhbGxlZCBiZXR3ZWVuIGVhY2ggYXN5bmMgc3RlcCBvZiB0aGUgdXBsb2FkCiAqIHByb2Nlc3MuCiAqIEBwYXJhbSB7c3RyaW5nfSBpbnB1dElkIEVsZW1lbnQgSUQgb2YgdGhlIGlucHV0IGZpbGUgcGlja2VyIGVsZW1lbnQuCiAqIEBwYXJhbSB7c3RyaW5nfSBvdXRwdXRJZCBFbGVtZW50IElEIG9mIHRoZSBvdXRwdXQgZGlzcGxheS4KICogQHJldHVybiB7IUl0ZXJhYmxlPCFPYmplY3Q+fSBJdGVyYWJsZSBvZiBuZXh0IHN0ZXBzLgogKi8KZnVuY3Rpb24qIHVwbG9hZEZpbGVzU3RlcChpbnB1dElkLCBvdXRwdXRJZCkgewogIGNvbnN0IGlucHV0RWxlbWVudCA9IGRvY3VtZW50LmdldEVsZW1lbnRCeUlkKGlucHV0SWQpOwogIGlucHV0RWxlbWVudC5kaXNhYmxlZCA9IGZhbHNlOwoKICBjb25zdCBvdXRwdXRFbGVtZW50ID0gZG9jdW1lbnQuZ2V0RWxlbWVudEJ5SWQob3V0cHV0SWQpOwogIG91dHB1dEVsZW1lbnQuaW5uZXJIVE1MID0gJyc7CgogIGNvbnN0IHBpY2tlZFByb21pc2UgPSBuZXcgUHJvbWlzZSgocmVzb2x2ZSkgPT4gewogICAgaW5wdXRFbGVtZW50LmFkZEV2ZW50TGlzdGVuZXIoJ2NoYW5nZScsIChlKSA9PiB7CiAgICAgIHJlc29sdmUoZS50YXJnZXQuZmlsZXMpOwogICAgfSk7CiAgfSk7CgogIGNvbnN0IGNhbmNlbCA9IGRvY3VtZW50LmNyZWF0ZUVsZW1lbnQoJ2J1dHRvbicpOwogIGlucHV0RWxlbWVudC5wYXJlbnRFbGVtZW50LmFwcGVuZENoaWxkKGNhbmNlbCk7CiAgY2FuY2VsLnRleHRDb250ZW50ID0gJ0NhbmNlbCB1cGxvYWQnOwogIGNvbnN0IGNhbmNlbFByb21pc2UgPSBuZXcgUHJvbWlzZSgocmVzb2x2ZSkgPT4gewogICAgY2FuY2VsLm9uY2xpY2sgPSAoKSA9PiB7CiAgICAgIHJlc29sdmUobnVsbCk7CiAgICB9OwogIH0pOwoKICAvLyBXYWl0IGZvciB0aGUgdXNlciB0byBwaWNrIHRoZSBmaWxlcy4KICBjb25zdCBmaWxlcyA9IHlpZWxkIHsKICAgIHByb21pc2U6IFByb21pc2UucmFjZShbcGlja2VkUHJvbWlzZSwgY2FuY2VsUHJvbWlzZV0pLAogICAgcmVzcG9uc2U6IHsKICAgICAgYWN0aW9uOiAnc3RhcnRpbmcnLAogICAgfQogIH07CgogIGNhbmNlbC5yZW1vdmUoKTsKCiAgLy8gRGlzYWJsZSB0aGUgaW5wdXQgZWxlbWVudCBzaW5jZSBmdXJ0aGVyIHBpY2tzIGFyZSBub3QgYWxsb3dlZC4KICBpbnB1dEVsZW1lbnQuZGlzYWJsZWQgPSB0cnVlOwoKICBpZiAoIWZpbGVzKSB7CiAgICByZXR1cm4gewogICAgICByZXNwb25zZTogewogICAgICAgIGFjdGlvbjogJ2NvbXBsZXRlJywKICAgICAgfQogICAgfTsKICB9CgogIGZvciAoY29uc3QgZmlsZSBvZiBmaWxlcykgewogICAgY29uc3QgbGkgPSBkb2N1bWVudC5jcmVhdGVFbGVtZW50KCdsaScpOwogICAgbGkuYXBwZW5kKHNwYW4oZmlsZS5uYW1lLCB7Zm9udFdlaWdodDogJ2JvbGQnfSkpOwogICAgbGkuYXBwZW5kKHNwYW4oCiAgICAgICAgYCgke2ZpbGUudHlwZSB8fCAnbi9hJ30pIC0gJHtmaWxlLnNpemV9IGJ5dGVzLCBgICsKICAgICAgICBgbGFzdCBtb2RpZmllZDogJHsKICAgICAgICAgICAgZmlsZS5sYXN0TW9kaWZpZWREYXRlID8gZmlsZS5sYXN0TW9kaWZpZWREYXRlLnRvTG9jYWxlRGF0ZVN0cmluZygpIDoKICAgICAgICAgICAgICAgICAgICAgICAgICAgICAgICAgICAgJ24vYSd9IC0gYCkpOwogICAgY29uc3QgcGVyY2VudCA9IHNwYW4oJzAlIGRvbmUnKTsKICAgIGxpLmFwcGVuZENoaWxkKHBlcmNlbnQpOwoKICAgIG91dHB1dEVsZW1lbnQuYXBwZW5kQ2hpbGQobGkpOwoKICAgIGNvbnN0IGZpbGVEYXRhUHJvbWlzZSA9IG5ldyBQcm9taXNlKChyZXNvbHZlKSA9PiB7CiAgICAgIGNvbnN0IHJlYWRlciA9IG5ldyBGaWxlUmVhZGVyKCk7CiAgICAgIHJlYWRlci5vbmxvYWQgPSAoZSkgPT4gewogICAgICAgIHJlc29sdmUoZS50YXJnZXQucmVzdWx0KTsKICAgICAgfTsKICAgICAgcmVhZGVyLnJlYWRBc0FycmF5QnVmZmVyKGZpbGUpOwogICAgfSk7CiAgICAvLyBXYWl0IGZvciB0aGUgZGF0YSB0byBiZSByZWFkeS4KICAgIGxldCBmaWxlRGF0YSA9IHlpZWxkIHsKICAgICAgcHJvbWlzZTogZmlsZURhdGFQcm9taXNlLAogICAgICByZXNwb25zZTogewogICAgICAgIGFjdGlvbjogJ2NvbnRpbnVlJywKICAgICAgfQogICAgfTsKCiAgICAvLyBVc2UgYSBjaHVua2VkIHNlbmRpbmcgdG8gYXZvaWQgbWVzc2FnZSBzaXplIGxpbWl0cy4gU2VlIGIvNjIxMTU2NjAuCiAgICBsZXQgcG9zaXRpb24gPSAwOwogICAgZG8gewogICAgICBjb25zdCBsZW5ndGggPSBNYXRoLm1pbihmaWxlRGF0YS5ieXRlTGVuZ3RoIC0gcG9zaXRpb24sIE1BWF9QQVlMT0FEX1NJWkUpOwogICAgICBjb25zdCBjaHVuayA9IG5ldyBVaW50OEFycmF5KGZpbGVEYXRhLCBwb3NpdGlvbiwgbGVuZ3RoKTsKICAgICAgcG9zaXRpb24gKz0gbGVuZ3RoOwoKICAgICAgY29uc3QgYmFzZTY0ID0gYnRvYShTdHJpbmcuZnJvbUNoYXJDb2RlLmFwcGx5KG51bGwsIGNodW5rKSk7CiAgICAgIHlpZWxkIHsKICAgICAgICByZXNwb25zZTogewogICAgICAgICAgYWN0aW9uOiAnYXBwZW5kJywKICAgICAgICAgIGZpbGU6IGZpbGUubmFtZSwKICAgICAgICAgIGRhdGE6IGJhc2U2NCwKICAgICAgICB9LAogICAgICB9OwoKICAgICAgbGV0IHBlcmNlbnREb25lID0gZmlsZURhdGEuYnl0ZUxlbmd0aCA9PT0gMCA/CiAgICAgICAgICAxMDAgOgogICAgICAgICAgTWF0aC5yb3VuZCgocG9zaXRpb24gLyBmaWxlRGF0YS5ieXRlTGVuZ3RoKSAqIDEwMCk7CiAgICAgIHBlcmNlbnQudGV4dENvbnRlbnQgPSBgJHtwZXJjZW50RG9uZX0lIGRvbmVgOwoKICAgIH0gd2hpbGUgKHBvc2l0aW9uIDwgZmlsZURhdGEuYnl0ZUxlbmd0aCk7CiAgfQoKICAvLyBBbGwgZG9uZS4KICB5aWVsZCB7CiAgICByZXNwb25zZTogewogICAgICBhY3Rpb246ICdjb21wbGV0ZScsCiAgICB9CiAgfTsKfQoKc2NvcGUuZ29vZ2xlID0gc2NvcGUuZ29vZ2xlIHx8IHt9OwpzY29wZS5nb29nbGUuY29sYWIgPSBzY29wZS5nb29nbGUuY29sYWIgfHwge307CnNjb3BlLmdvb2dsZS5jb2xhYi5fZmlsZXMgPSB7CiAgX3VwbG9hZEZpbGVzLAogIF91cGxvYWRGaWxlc0NvbnRpbnVlLAp9Owp9KShzZWxmKTsK",
              "ok": true,
              "headers": [
                [
                  "content-type",
                  "application/javascript"
                ]
              ],
              "status": 200,
              "status_text": ""
            }
          },
          "base_uri": "https://localhost:8080/",
          "height": 128
        },
        "id": "FJRZ14BInqJ4",
        "outputId": "ef31bbc3-e444-4a7a-ee45-66aad4de024c"
      },
      "outputs": [
        {
          "output_type": "display_data",
          "data": {
            "text/html": [
              "\n",
              "     <input type=\"file\" id=\"files-baf00b75-622f-408c-a742-0866627f24c9\" name=\"files[]\" multiple disabled\n",
              "        style=\"border:none\" />\n",
              "     <output id=\"result-baf00b75-622f-408c-a742-0866627f24c9\">\n",
              "      Upload widget is only available when the cell has been executed in the\n",
              "      current browser session. Please rerun this cell to enable.\n",
              "      </output>\n",
              "      <script src=\"/nbextensions/google.colab/files.js\"></script> "
            ],
            "text/plain": [
              "<IPython.core.display.HTML object>"
            ]
          },
          "metadata": {}
        },
        {
          "output_type": "stream",
          "name": "stdout",
          "text": [
            "Saving nba_2020_advancedd.csv to nba_2020_advancedd.csv\n"
          ]
        },
        {
          "output_type": "execute_result",
          "data": {
            "text/plain": [
              "{'nba_2020_advancedd.csv': b\"Player,Pos,Age,Tm,G,MP,PER,TS%,3PAr,FTr\\r\\nSteven Adams,C,26,OKC,63,1680,20.5,0.604,0.006,0.421\\r\\nBam Adebayo,PF,22,MIA,72,2417,20.3,0.598,0.018,0.484\\r\\nLaMarcus Aldridge,C,34,SAS,53,1754,19.7,0.571,0.198,0.241\\r\\nKyle Alexander,PF,23,MIA,2,13,4.7,0.5,0,0\\r\\nNickeil Alexander-Walker,SG,21,NOP,47,591,8.9,0.473,0.5,0.139\\r\\nGrayson Allen,SG,24,MEM,38,718,12,0.609,0.562,0.179\\r\\nJarrett Allen,C,21,BRK,70,1852,20.7,0.664,0.013,0.581\\r\\nKadeem Allen,SG,27,NYK,10,117,14,0.512,0.364,0.25\\r\\nAl-Farouq Aminu,PF,29,ORL,18,380,7.6,0.395,0.419,0.337\\r\\nJustin Anderson,SF,26,BRK,10,107,3.2,0.352,0.763,0.105\\r\\nKyle Anderson,PF,26,MEM,67,1330,12.5,0.534,0.257,0.236\\r\\nRyan Anderson,C,31,HOU,2,14,9.4,0.357,0.714,0\\r\\nGiannis Antetokounmpo,PF,25,MIL,63,1917,31.9,0.613,0.237,0.508\\r\\nKostas Antetokounmpo,PF,22,LAL,5,20,16.3,0.902,0,0.667\\r\\nThanasis Antetokounmpo,SF,27,MIL,20,129,12.2,0.496,0.208,0.354\\r\\nCarmelo Anthony,PF,35,POR,58,1902,12.4,0.525,0.289,0.206\\r\\nOG Anunoby,SF,22,TOR,69,2066,13.2,0.6,0.403,0.18\\r\\nRyan Arcidiacono,PG,25,CHI,58,930,9,0.551,0.627,0.173\\r\\nTrevor Ariza,SF,34,TOT,53,1493,11,0.593,0.639,0.228\\r\\nTrevor Ariza,SF,34,SAC,32,791,9.4,0.543,0.739,0.164\\r\\nTrevor Ariza,SF,34,POR,21,702,12.8,0.643,0.535,0.296\\r\\nD.J. Augustin,PG,32,ORL,57,1420,14,0.554,0.436,0.393\\r\\nDeandre Ayton,C,21,PHO,38,1236,20,0.568,0.023,0.157\\r\\nDwayne Bacon,SG,24,CHO,39,687,6.1,0.419,0.275,0.217\\r\\nMarvin Bagley III,PF,20,SAC,13,334,15.6,0.512,0.132,0.186\\r\\nLonzo Ball,PG,22,NOP,63,2025,13.1,0.517,0.575,0.111\\r\\nMo Bamba,C,21,ORL,62,878,17.5,0.542,0.374,0.161\\r\\nJ.J. Barea,PG,35,DAL,29,450,14.6,0.512,0.411,0.106\\r\\nHarrison Barnes,PF,27,SAC,72,2482,13.3,0.574,0.338,0.337\\r\\nRJ Barrett,SG,19,NYK,56,1704,10.7,0.479,0.271,0.349\\r\\nWill Barton,SF,29,DEN,58,1916,15.6,0.549,0.39,0.18\\r\\nKeita Bates-Diop,SF,24,TOT,44,744,12.4,0.539,0.44,0.321\\r\\nKeita Bates-Diop,SF,24,MIN,37,646,12.5,0.535,0.456,0.316\\r\\nKeita Bates-Diop,SF,24,DEN,7,98,12.1,0.571,0.321,0.357\\r\\nNicolas Batum,SF,31,CHO,22,505,9.2,0.463,0.605,0.123\\r\\nAron Baynes,C,33,PHO,42,934,15.2,0.581,0.441,0.197\\r\\nKent Bazemore,SF-SG,30,TOT,68,1688,9.3,0.499,0.457,0.275\\r\\nKent Bazemore,SF,30,POR,43,1111,7.5,0.475,0.525,0.221\\r\\nKent Bazemore,SG,30,SAC,25,577,12.6,0.533,0.351,0.361\\r\\nDarius Bazley,PF,19,OKC,61,1130,9.6,0.497,0.445,0.196\\r\\nBradley Beal,SG,26,WAS,57,2053,23.2,0.579,0.369,0.351\\r\\nMalik Beasley,SG,23,TOT,55,1209,12.7,0.546,0.517,0.124\\r\\nMalik Beasley,SG,23,DEN,41,746,10.5,0.511,0.535,0.126\\r\\nMalik Beasley,SG,23,MIN,14,463,16.2,0.591,0.494,0.12\\r\\nMarco Belinelli,SG,33,SAS,57,883,10.8,0.532,0.567,0.185\\r\\nJordan Bell,C-PF,25,TOT,29,256,13.9,0.577,0.179,0.463\\r\\nJordan Bell,C,25,MIN,27,235,14.1,0.57,0.15,0.483\\r\\nJordan Bell,PF,25,MEM,2,21,12.6,0.635,0.429,0.286\\r\\nDeAndre' Bembry,SG,25,ATL,43,915,9.6,0.5,0.285,0.211\\r\\nDragan Bender,SF,22,TOT,16,286,10.9,0.545,0.467,0.152\\r\\nDragan Bender,SF,22,MIL,7,91,8.4,0.582,0.429,0.143\\r\\nDragan Bender,SF,22,GSW,9,195,12.1,0.534,0.479,0.155\\r\\nD\\xc4\\x81vis Bert\\xc4\\x81ns,PF,27,WAS,54,1583,15.5,0.628,0.774,0.2\\r\\nPatrick Beverley,PG,31,LAC,51,1342,12.5,0.56,0.604,0.138\\r\\nKhem Birch,C,27,ORL,48,922,11.7,0.566,0.007,0.706\\r\\nGoga Bitadze,C,20,IND,54,471,12.1,0.523,0.28,0.22\\r\\nBismack Biyombo,C,27,CHO,53,1029,16.1,0.57,0,0.543\\r\\nNemanja Bjelica,PF,31,SAC,72,2011,15.7,0.602,0.49,0.129\\r\\nEric Bledsoe,PG,30,MIL,61,1646,17.6,0.571,0.306,0.304\\r\\nBogdan Bogdanovi\\xc4\\x87,SG,27,SAC,61,1766,15.1,0.565,0.576,0.151\\r\\nBojan Bogdanovi\\xc4\\x87,SF,30,UTA,63,2083,15.6,0.603,0.489,0.296\\r\\nBol Bol,SF,20,DEN,7,87,14.4,0.617,0.321,0.357\\r\\nJonah Bolden,PF,24,TOT,7,47,4.9,0.392,0.364,0.364\\r\\nJonah Bolden,PF,24,PHI,4,14,-2,0.515,0.333,0.667\\r\\nJonah Bolden,PF,24,PHO,3,33,7.9,0.338,0.375,0.25\\r\\nMarques Bolden,C,21,CLE,1,3,19.8,,,\\r\\nJordan Bone,PG,22,DET,10,53,0.8,0.3,0.5,0\\r\\nIsaac Bonga,SF,20,WAS,66,1250,10.2,0.608,0.303,0.363\\r\\nDevin Booker,SG,23,PHO,70,2512,20.6,0.618,0.31,0.397\\r\\nChris Boucher,PF,27,TOR,62,819,20.7,0.587,0.395,0.388\\r\\nBrian Bowen,SG,21,IND,6,31,0.1,0.3,0.2,0\\r\\nKy Bowman,PG,22,GSW,45,1015,9.1,0.494,0.333,0.128\\r\\nAvery Bradley,SG,29,LAL,49,1186,8.9,0.537,0.452,0.063\\r\\nTony Bradley,C,22,UTA,58,663,21.7,0.681,0.016,0.243\\r\\nJarrell Brantley,PF,23,UTA,9,96,8,0.416,0.464,0.071\\r\\nIgnas Brazdeikis,SF,21,NYK,9,53,3.2,0.351,0.409,0.227\\r\\nCorey Brewer,SG,33,SAC,5,33,8.7,0.47,0.25,0.75\\r\\nMikal Bridges,SF,23,PHO,73,2042,12.9,0.62,0.401,0.252\\r\\nMiles Bridges,SF,21,CHO,65,1995,12.1,0.52,0.398,0.174\\r\\nOshae Brissett,SF,21,TOR,19,135,6.7,0.458,0.417,0.278\\r\\nRyan Broekhoff,SG,29,DAL,17,180,13.1,0.568,0.864,0.136\\r\\nMalcolm Brogdon,PG,27,IND,54,1666,17.7,0.541,0.309,0.25\\r\\nDillon Brooks,SG,24,MEM,73,2112,11.3,0.51,0.385,0.19\\r\\nBruce Brown,SG,23,DET,58,1634,11.9,0.518,0.215,0.266\\r\\nCharlie Brown,SG,22,ATL,10,40,11,0.472,0.474,0.263\\r\\nJaylen Brown,SF,23,BOS,57,1934,16.9,0.583,0.381,0.274\\r\\nMoses Brown,C,20,POR,9,33,6.7,0.407,0,0.8\\r\\nSterling Brown,SF,24,MIL,52,767,9.5,0.486,0.531,0.156\\r\\nTroy Brown Jr.,SG,20,WAS,69,1782,13.7,0.524,0.288,0.223\\r\\nJalen Brunson,PG,23,DAL,57,1022,14.9,0.553,0.309,0.193\\r\\nThomas Bryant,C,22,WAS,46,1147,21.1,0.649,0.218,0.278\\r\\nReggie Bullock,SG,28,NYK,29,684,9.3,0.502,0.496,0.094\\r\\nTrey Burke,PG,27,TOT,33,520,15.6,0.548,0.359,0.139\\r\\nTrey Burke,PG,27,PHI,25,329,15.4,0.545,0.299,0.142\\r\\nTrey Burke,PG,27,DAL,8,191,16,0.553,0.451,0.134\\r\\nAlec Burks,SG,28,TOT,66,1754,16.7,0.561,0.392,0.345\\r\\nAlec Burks,SG,28,GSW,48,1390,16.1,0.552,0.373,0.373\\r\\nAlec Burks,SG,28,PHI,18,364,19,0.594,0.461,0.246\\r\\nDeonte Burton,SG,26,OKC,39,356,4.3,0.396,0.424,0.112\\r\\nJimmy Butler,SF,30,MIA,58,1959,23.6,0.585,0.157,0.693\\r\\nBruno Caboclo,C,24,TOT,30,244,14.1,0.484,0.371,0.101\\r\\nBruno Caboclo,C,24,MEM,22,192,11.9,0.441,0.362,0.043\\r\\nBruno Caboclo,C,24,HOU,8,52,22.1,0.618,0.4,0.3\\r\\nDevontae Cacok,C,23,LAL,1,9,28.6,0.5,0,0\\r\\nKentavious Caldwell-Pope,SG,26,LAL,69,1762,11,0.584,0.471,0.201\\r\\nVlatko \\xc4\\x8can\\xc4\\x8dar,SF,22,DEN,14,45,11.4,0.507,0.4,0.267\\r\\nClint Capela,C,25,HOU,39,1279,20.6,0.626,0,0.268\\r\\nDeMarre Carroll,SF-PF,33,TOT,24,290,9.1,0.515,0.5,0.636\\r\\nDeMarre Carroll,SF,33,SAS,15,135,4.9,0.437,0.448,0.69\\r\\nDeMarre Carroll,PF,33,HOU,9,155,12.8,0.578,0.541,0.595\\r\\nJevon Carter,PG,24,PHO,58,945,11.3,0.563,0.601,0.111\\r\\nVince Carter,SF,43,ATL,60,876,7.5,0.47,0.664,0.095\\r\\nWendell Carter Jr.,C,20,CHI,43,1256,15.5,0.59,0.085,0.443\\r\\nMichael Carter-Williams,SG,28,ORL,45,833,15.3,0.535,0.288,0.365\\r\\nAlex Caruso,PG,25,LAL,64,1175,10.8,0.525,0.412,0.323\\r\\nWillie Cauley-Stein,C,26,TOT,54,1097,17,0.589,0.003,0.219\\r\\nWillie Cauley-Stein,C,26,GSW,41,940,16.2,0.573,0,0.222\\r\\nWillie Cauley-Stein,C,26,DAL,13,157,22.2,0.684,0.022,0.2\\r\\nTyson Chandler,C,37,HOU,26,219,10.8,0.717,0,0.722\\r\\nWilson Chandler,SF,32,BRK,35,734,7.4,0.531,0.661,0.126\\r\\nJoe Chealey,PG,24,CHO,4,33,-2.9,0.127,0.571,0.286\\r\\nZylan Cheatham,SF,24,NOP,4,51,6.7,0.667,0.111,0\\r\\nChris Chiozza,PG,24,TOT,28,401,12,0.499,0.514,0.036\\r\\nChris Chiozza,PG,24,WAS,10,123,9.2,0.397,0.471,0\\r\\nChris Chiozza,PG,24,BRK,18,278,13.2,0.531,0.528,0.047\\r\\nMarquese Chriss,PF,22,GSW,59,1196,19.5,0.604,0.101,0.405\\r\\nGary Clark,PF,25,TOT,42,567,10.7,0.568,0.835,0.075\\r\\nGary Clark,PF,25,HOU,18,212,11.8,0.564,0.864,0.119\\r\\nGary Clark,PF,25,ORL,24,355,10.1,0.571,0.811,0.041\\r\\nBrandon Clarke,PF,23,MEM,58,1300,20.9,0.663,0.134,0.234\\r\\nJordan Clarkson,SG,27,TOT,71,1705,17.3,0.574,0.476,0.19\\r\\nJordan Clarkson,SG,27,CLE,29,666,18.6,0.581,0.488,0.264\\r\\nJordan Clarkson,SG,27,UTA,42,1039,16.5,0.569,0.47,0.146\\r\\nNicolas Claxton,PF,20,BRK,15,187,14.8,0.577,0.146,0.438\\r\\nChris Clemons,SG,22,HOU,33,291,13.1,0.548,0.754,0.077\\r\\nAntonius Cleveland,SG,25,DAL,11,46,2.5,0.34,0.214,0.357\\r\\nAmir Coffey,SG,22,LAC,18,159,8.5,0.493,0.352,0.204\\r\\nJohn Collins,PF,22,ATL,41,1363,23.5,0.659,0.243,0.248\\r\\nZach Collins,PF,22,POR,11,290,9.9,0.538,0.279,0.118\\r\\nMike Conley,PG,32,UTA,47,1363,14.1,0.537,0.451,0.245\\r\\nPat Connaughton,SG,27,MIL,67,1243,11.5,0.565,0.551,0.133\\r\\nQuinn Cook,PG,26,LAL,44,508,10,0.509,0.397,0.065\\r\\nTyler Cook,PF,22,TOT,13,54,19.4,0.741,0,0.667\\r\\nTyler Cook,PF,22,CLE,11,35,23.9,0.752,0,0.6\\r\\nTyler Cook,PF,22,DEN,2,19,11.3,0.694,0,1\\r\\nRobert Covington,PF-C,29,TOT,70,2137,13.3,0.559,0.664,0.172\\r\\nRobert Covington,PF,29,MIN,48,1411,13.5,0.572,0.629,0.19\\r\\nRobert Covington,C,29,HOU,22,726,13.1,0.531,0.74,0.132\\r\\nAllen Crabbe,SG,27,TOT,37,653,6,0.47,0.672,0.079\\r\\nAllen Crabbe,SG,27,ATL,28,522,7.2,0.482,0.65,0.084\\r\\nAllen Crabbe,SG,27,MIN,9,131,1.1,0.416,0.765,0.059\\r\\nTorrey Craig,SF,29,DEN,58,1072,10.8,0.553,0.513,0.134\\r\\nJamal Crawford,SG,39,BRK,1,6,33.2,0.625,0.5,0\\r\\nJae Crowder,SF,29,TOT,65,1875,12.5,0.553,0.7,0.222\\r\\nJae Crowder,SF,29,MEM,45,1322,11,0.507,0.667,0.238\\r\\nJae Crowder,SF,29,MIA,20,553,16.3,0.669,0.78,0.183\\r\\nJarrett Culver,SG,20,MIN,63,1506,9.6,0.467,0.388,0.206\\r\\nSeth Curry,SG,29,DAL,64,1576,15.5,0.643,0.559,0.169\\r\\nStephen Curry,PG,31,GSW,5,139,21.7,0.557,0.598,0.317\\r\\nTroy Daniels,SG,28,TOT,47,532,8.4,0.518,0.71,0.086\\r\\nTroy Daniels,SG,28,LAL,41,456,9,0.527,0.709,0.101\\r\\nTroy Daniels,SG,28,DEN,6,76,5.3,0.464,0.714,0\\r\\nAnthony Davis,PF,26,LAL,62,2131,27.4,0.61,0.199,0.479\\r\\nEd Davis,C,30,UTA,28,303,9.5,0.489,0,0.304\\r\\nTerence Davis,SG,22,TOR,72,1209,13.8,0.588,0.555,0.135\\r\\nDewayne Dedmon,C,30,TOT,44,774,9.4,0.473,0.42,0.141\\r\\nDewayne Dedmon,C,30,SAC,34,541,8.5,0.477,0.415,0.164\\r\\nDewayne Dedmon,C,30,ATL,10,233,11.4,0.463,0.429,0.095\\r\\nMatthew Dellavedova,PG,29,CLE,57,821,8.1,0.463,0.52,0.211\\r\\nDeMar DeRozan,SF,30,SAS,68,2316,21.6,0.603,0.033,0.43\\r\\nCheick Diallo,C,23,PHO,47,479,16.5,0.688,0.021,0.275\\r\\nHamidou Diallo,SF,21,OKC,46,896,9.3,0.491,0.193,0.213\\r\\nGorgui Dieng,C,30,TOT,63,1096,17.1,0.568,0.418,0.277\\r\\nGorgui Dieng,C,30,MIN,46,778,17.8,0.563,0.433,0.213\\r\\nGorgui Dieng,C,30,MEM,17,318,15.5,0.583,0.368,0.483\\r\\nSpencer Dinwiddie,SG,26,BRK,64,1994,17.8,0.541,0.392,0.437\\r\\nDonte DiVincenzo,SG,23,MIL,66,1520,14.1,0.557,0.484,0.169\\r\\nLuka Don\\xc4\\x8di\\xc4\\x87,PG,20,DAL,61,2047,27.6,0.585,0.431,0.448\\r\\nLuguentz Dort,SG,20,OKC,36,820,7.6,0.506,0.463,0.243\\r\\nDamyean Dotson,SG,25,NYK,48,836,10.9,0.527,0.562,0.114\\r\\nSekou Doumbouya,SF,19,DET,38,754,6.2,0.474,0.415,0.195\\r\\nPJ Dozier,PG,23,DEN,29,412,11.6,0.495,0.312,0.185\\r\\nGoran Dragi\\xc4\\x87,PG,33,MIA,59,1663,16.3,0.573,0.467,0.34\\r\\nAndre Drummond,C,26,TOT,57,1879,22,0.553,0.045,0.375\\r\\nAndre Drummond,C,26,DET,49,1654,22.1,0.55,0.031,0.376\\r\\nAndre Drummond,C,26,CLE,8,225,21.1,0.573,0.133,0.371\\r\\nJared Dudley,SF,34,LAL,45,364,7.8,0.558,0.7,0.033\\r\\nKris Dunn,PG,25,CHI,51,1269,12.1,0.51,0.327,0.158\\r\\nCarsen Edwards,SG,21,BOS,37,351,6.9,0.444,0.594,0.148\\r\\nHenry Ellenson,PF,23,BRK,5,15,-1.3,0.143,0.571,0\\r\\nWayne Ellington,SG,32,NYK,36,558,8.5,0.509,0.822,0.075\\r\\nJoel Embiid,C,25,PHI,51,1506,25.8,0.59,0.215,0.543\\r\\nJames Ennis,SF,29,TOT,69,1265,11.5,0.565,0.471,0.273\\r\\nJames Ennis,SF,29,PHI,49,776,12.3,0.564,0.469,0.27\\r\\nJames Ennis,SF,29,ORL,20,489,10.3,0.566,0.474,0.278\\r\\nDrew Eubanks,PF,22,SAS,22,272,17.3,0.682,0.015,0.388\\r\\nJacob Evans,SG,22,TOT,29,418,5.5,0.436,0.291,0.216\\r\\nJacob Evans,SG,22,GSW,27,414,5.6,0.439,0.286,0.218\\r\\nJacob Evans,SG,22,MIN,2,4,-9.6,0,1,0\\r\\nDante Exum,SG,24,TOT,35,485,10.3,0.576,0.361,0.361\\r\\nDante Exum,SG,24,UTA,11,83,4.8,0.503,0.261,0.087\\r\\nDante Exum,SG,24,CLE,24,402,11.5,0.592,0.385,0.427\\r\\nTacko Fall,C,24,BOS,7,33,28.4,0.751,0,0.214\\r\\nDerrick Favors,C,28,NOP,51,1243,18.5,0.62,0.021,0.209\\r\\nCristiano Fel\\xc3\\xadcio,PF,27,CHI,22,386,12.8,0.671,0.037,0.426\\r\\nTerrance Ferguson,SF,21,OKC,56,1257,3.7,0.481,0.764,0.091\\r\\nBruno Fernando,C,21,ATL,56,713,11.9,0.542,0.186,0.256\\r\\nYogi Ferrell,PG,26,SAC,50,530,12.2,0.528,0.42,0.223\\r\\nDorian Finney-Smith,PF,26,DAL,71,2120,12.3,0.595,0.58,0.207\\r\\nBryn Forbes,SG,26,SAS,63,1579,11.1,0.57,0.656,0.155\\r\\nEvan Fournier,SG,27,ORL,66,2076,16.4,0.595,0.467,0.237\\r\\nDe'Aaron Fox,PG,22,SAC,51,1634,20.6,0.558,0.227,0.42\\r\\nMelvin Frazier,SG,23,ORL,19,126,9.8,0.559,0.471,0.118\\r\\nMichael Frazier,SG,25,HOU,13,145,-0.9,0.384,0.793,0.483\\r\\nTim Frazier,PG,29,DET,27,355,9.8,0.464,0.319,0.255\\r\\nMarkelle Fultz,PG,21,ORL,72,1996,14.3,0.517,0.175,0.206\\r\\nWenyen Gabriel,PF,22,TOT,30,235,9.6,0.546,0.417,0.458\\r\\nWenyen Gabriel,PF,22,SAC,11,61,7.4,0.444,0.471,0.588\\r\\nWenyen Gabriel,PF,22,POR,19,174,10.3,0.606,0.387,0.387\\r\\nDaniel Gafford,C,21,CHI,43,609,16.2,0.686,0,0.448\\r\\nDanilo Gallinari,PF,31,OKC,62,1834,19.5,0.612,0.537,0.365\\r\\nLangston Galloway,SG,28,DET,66,1702,12.3,0.584,0.611,0.157\\r\\nDarius Garland,PG,20,CLE,59,1824,8.5,0.498,0.423,0.103\\r\\nMarc Gasol,C,35,TOR,44,1161,11.8,0.551,0.53,0.176\\r\\nRudy Gay,PF,33,SAS,67,1461,15.4,0.553,0.369,0.228\\r\\nPaul George,SF,29,LAC,48,1419,21.1,0.589,0.487,0.277\\r\\nTaj Gibson,C,34,NYK,62,1025,16.1,0.61,0.049,0.196\\r\\nHarry Giles,PF,21,SAC,46,667,16.4,0.58,0.008,0.195\\r\\nShai Gilgeous-Alexander,SG,21,OKC,70,2428,17.7,0.568,0.247,0.352\\r\\nRudy Gobert,C,27,UTA,68,2333,21.7,0.699,0,0.724\\r\\nBrandon Goodwin,PG,24,ATL,34,430,11.6,0.507,0.458,0.158\\r\\nAaron Gordon,PF,24,ORL,62,2017,15.1,0.516,0.309,0.292\\r\\nEric Gordon,SF,31,HOU,36,1016,10.3,0.51,0.654,0.231\\r\\nDevonte' Graham,PG,24,CHO,63,2211,15.8,0.537,0.607,0.242\\r\\nTreveon Graham,SG,26,TOT,55,929,6.6,0.456,0.496,0.231\\r\\nTreveon Graham,SG,26,MIN,33,663,6,0.447,0.474,0.211\\r\\nTreveon Graham,SG,26,ATL,22,266,8,0.478,0.552,0.284\\r\\nJerami Grant,PF,25,DEN,71,1892,14.4,0.591,0.397,0.309\\r\\nJerian Grant,PG,27,WAS,6,80,6.6,0.449,0.296,0.259\\r\\nJosh Gray,PG,26,NOP,2,23,-5,0.5,0,0\\r\\nDanny Green,SG,32,LAL,68,1687,10.8,0.552,0.69,0.101\\r\\nDraymond Green,PF,29,GSW,43,1222,12.5,0.489,0.408,0.263\\r\\nJaMychal Green,PF,29,LAC,63,1307,11.1,0.576,0.676,0.136\\r\\nJavonte Green,SF,26,BOS,48,468,13.1,0.564,0.262,0.333\\r\\nJeff Green,PF-C,33,TOT,48,960,13.7,0.59,0.532,0.265\\r\\nJeff Green,PF,33,UTA,30,553,10,0.523,0.533,0.323\\r\\nJeff Green,C,33,HOU,18,407,18.6,0.682,0.53,0.188\\r\\nBlake Griffin,PF,30,DET,18,512,11.9,0.476,0.444,0.392\\r\\nMarko Guduric,SG,24,MEM,44,484,8.8,0.514,0.529,0.166\\r\\nKyle Guy,SG,22,SAC,3,10,6.6,0.4,0.6,0\\r\\nRui Hachimura,PF,21,WAS,48,1444,13.5,0.535,0.16,0.257\\r\\nDevon Hall,SG,24,OKC,11,81,3.1,0.298,0.567,0.267\\r\\nDonta Hall,PF,22,TOT,9,133,13.6,0.652,0,0.818\\r\\nDonta Hall,PF,22,DET,4,48,7.3,0.452,0,1.5\\r\\nDonta Hall,PF,22,BRK,5,85,17.2,0.709,0,0.667\\r\\nDusty Hannahs,SG,26,MEM,2,13,21.3,0.607,0.333,0.222\\r\\nTim Hardaway Jr.,SG,27,DAL,71,2091,14.5,0.581,0.58,0.206\\r\\nJames Harden,SG,30,HOU,68,2483,29.1,0.626,0.557,0.528\\r\\nMaurice Harkless,SF,26,TOT,62,1427,9.8,0.572,0.346,0.233\\r\\nMaurice Harkless,SF,26,LAC,50,1141,9.7,0.584,0.336,0.194\\r\\nMaurice Harkless,SF,26,NYK,12,286,10.1,0.536,0.379,0.364\\r\\nJared Harper,PG,22,PHO,3,8,-5.3,0.25,0.5,0\\r\\nMontrezl Harrell,C,26,LAC,63,1749,23.2,0.607,0.022,0.432\\r\\nGary Harris,SG,25,DEN,56,1780,9.7,0.519,0.405,0.177\\r\\nJoe Harris,SF,28,BRK,69,2123,13.3,0.606,0.518,0.114\\r\\nTobias Harris,PF,27,PHI,72,2469,17.2,0.556,0.304,0.184\\r\\nShaquille Harrison,SF,26,CHI,43,484,17.8,0.559,0.255,0.303\\r\\nJosh Hart,SF,24,NOP,65,1755,11.9,0.563,0.665,0.216\\r\\nIsaiah Hartenstein,C,21,HOU,23,266,18.6,0.674,0.075,0.418\\r\\nUdonis Haslem,PF,39,MIA,4,44,6.5,0.47,0.273,0.364\\r\\nJaxson Hayes,C,19,NOP,64,1080,17.6,0.689,0.015,0.734\\r\\nGordon Hayward,SF,29,BOS,52,1740,18.1,0.595,0.317,0.207\\r\\nJohn Henson,PF,29,TOT,40,600,17,0.578,0.211,0.269\\r\\nJohn Henson,PF,29,CLE,29,412,16.9,0.539,0.258,0.275\\r\\nJohn Henson,PF,29,DET,11,188,17.1,0.67,0.098,0.255\\r\\nDewan Hernandez,C,23,TOR,6,28,12.9,0.432,0.143,0.357\\r\\nJuan Hernang\\xc3\\xb3mez,PF,24,TOT,48,833,10.4,0.518,0.522,0.287\\r\\nJuan Hernang\\xc3\\xb3mez,PF,24,DEN,34,422,6.9,0.442,0.545,0.227\\r\\nJuan Hernang\\xc3\\xb3mez,PF,24,MIN,14,411,14.1,0.576,0.504,0.336\\r\\nWilly Hernang\\xc3\\xb3mez,C,25,CHO,31,375,19.2,0.576,0.158,0.424\\r\\nTyler Herro,SG,20,MIA,55,1508,12.5,0.55,0.472,0.158\\r\\nKevin Hervey,PF,23,OKC,10,52,5,0.315,0.741,0\\r\\nMario Hezonja,PF,24,POR,53,871,9.5,0.525,0.358,0.271\\r\\nBuddy Hield,SG,27,SAC,72,2216,16,0.566,0.592,0.117\\r\\nGeorge Hill,PG,33,MIL,59,1271,16.9,0.659,0.468,0.269\\r\\nSolomon Hill,SF,28,TOT,59,1088,9.8,0.535,0.615,0.194\\r\\nSolomon Hill,SF,28,MEM,48,901,10.2,0.549,0.631,0.163\\r\\nSolomon Hill,SF,28,MIA,11,187,8.1,0.471,0.533,0.356\\r\\nJaylen Hoard,SF,20,POR,13,103,14.9,0.504,0.094,0.406\\r\\nAaron Holiday,PG,23,IND,66,1617,11.6,0.521,0.393,0.155\\r\\nJrue Holiday,SG,29,NOP,61,2117,17,0.537,0.344,0.181\\r\\nJustin Holiday,SG,30,IND,73,1826,12.1,0.585,0.681,0.138\\r\\nRondae Hollis-Jefferson,SF,25,TOR,60,1122,15.1,0.533,0.07,0.435\\r\\nRichaun Holmes,C,26,SAC,44,1242,19.7,0.681,0,0.343\\r\\nRodney Hood,SF,27,POR,21,619,12.2,0.625,0.413,0.157\\r\\nAl Horford,C,33,PHI,67,2025,15.7,0.536,0.399,0.113\\r\\nTalen Horton-Tucker,SG,19,LAL,6,81,12.3,0.535,0.433,0.133\\r\\nDanuel House,SF,26,HOU,63,1913,11.3,0.572,0.659,0.167\\r\\nDwight Howard,C,34,LAL,69,1306,18.7,0.696,0.018,0.773\\r\\nWilliam Howard,PF,26,HOU,2,13,-12.7,0,1,0\\r\\nKevin Huerter,SG,21,ATL,56,1760,11.5,0.536,0.548,0.105\\r\\nDe'Andre Hunter,SF,22,ATL,63,2018,8.6,0.521,0.445,0.211\\r\\nChandler Hutchison,SF,23,CHI,28,527,12.4,0.521,0.217,0.446\\r\\nSerge Ibaka,C,30,TOR,55,1485,17.3,0.583,0.272,0.185\\r\\nAndre Iguodala,SG,36,MIA,21,418,10.5,0.507,0.534,0.17\\r\\nErsan \\xc4\\xb0lyasova,PF,32,MIL,63,986,14.9,0.589,0.438,0.278\\r\\nJoe Ingles,SF,32,UTA,72,2137,12.6,0.595,0.638,0.17\\r\\nBrandon Ingram,PF,22,NOP,62,2104,18.8,0.587,0.35,0.336\\r\\nKyrie Irving,PG,27,BRK,20,658,26.2,0.595,0.341,0.245\\r\\nJonathan Isaac,SF,22,ORL,34,980,17.3,0.552,0.283,0.232\\r\\nWesley Iwundu,SF,25,ORL,52,953,10.3,0.544,0.352,0.416\\r\\nFrank Jackson,PG,21,NOP,59,797,9.1,0.51,0.435,0.227\\r\\nJaren Jackson Jr.,C,20,MEM,57,1622,16.3,0.593,0.489,0.247\\r\\nJosh Jackson,SG,22,MEM,22,381,14.1,0.547,0.453,0.314\\r\\nJustin Jackson,PF,24,DAL,65,1045,9.5,0.496,0.478,0.147\\r\\nReggie Jackson,PG,29,TOT,31,743,13.7,0.529,0.445,0.166\\r\\nReggie Jackson,PG,29,DET,14,381,14.7,0.492,0.414,0.167\\r\\nReggie Jackson,PG,29,LAC,17,362,12.6,0.587,0.492,0.164\\r\\nJustin James,SG,23,SAC,36,232,11,0.477,0.345,0.25\\r\\nLeBron James,PG,35,LAL,67,2316,25.5,0.577,0.326,0.292\\r\\nAmile Jefferson,PF,26,ORL,18,74,8.9,0.372,0,1\\r\\nDaQuan Jeffries,SG,22,SAC,13,141,11.2,0.586,0.45,0.15\\r\\nTy Jerome,PG,22,PHO,31,328,7.9,0.425,0.442,0.142\\r\\nAlize Johnson,SF,23,IND,17,118,13.3,0.509,0.276,0.345\\r\\nB.J. Johnson,SF,24,ORL,10,83,5.4,0.412,0.281,0.313\\r\\nCameron Johnson,PF,23,PHO,57,1255,12.9,0.586,0.672,0.141\\r\\nJames Johnson,PF,32,TOT,32,619,14.8,0.572,0.423,0.223\\r\\nJames Johnson,PF,32,MIA,18,281,11.1,0.547,0.517,0.161\\r\\nJames Johnson,PF,32,MIN,14,338,17.9,0.588,0.359,0.266\\r\\nKeldon Johnson,SF,20,SAS,17,301,19.1,0.711,0.247,0.494\\r\\nStanley Johnson,PF,23,TOR,25,150,9.9,0.454,0.407,0.271\\r\\nTyler Johnson,SG,27,TOT,39,709,10.1,0.504,0.476,0.2\\r\\nTyler Johnson,SG,27,PHO,31,515,8.1,0.481,0.485,0.187\\r\\nTyler Johnson,SG,27,BRK,8,194,15.6,0.552,0.456,0.228\\r\\nNikola Joki\\xc4\\x87,C,24,DEN,73,2336,24.9,0.605,0.238,0.281\\r\\nDamian Jones,C,24,ATL,55,887,15.6,0.712,0.051,0.472\\r\\nDerrick Jones Jr.,SF,22,MIA,59,1375,14.9,0.62,0.378,0.352\\r\\nTyus Jones,PG,23,MEM,65,1232,15.7,0.532,0.289,0.135\\r\\nDeAndre Jordan,C,31,BRK,56,1234,19.9,0.682,0,0.425\\r\\nCory Joseph,PG,28,SAC,72,1759,10.1,0.517,0.386,0.17\\r\\nMfiondu Kabengele,C,22,LAC,12,64,18.2,0.614,0.625,0.156\\r\\nFrank Kaminsky,C,26,PHO,39,777,14.2,0.545,0.404,0.293\\r\\nEnes Kanter,C,27,BOS,58,983,22.4,0.599,0.02,0.284\\r\\nLuke Kennard,SG,23,DET,28,922,14.4,0.589,0.535,0.219\\r\\nStanton Kidd,SF,27,UTA,4,15,-13.7,0,0.333,0\\r\\nMichael Kidd-Gilchrist,SF-PF,26,TOT,25,281,4.2,0.416,0.303,0.212\\r\\nMichael Kidd-Gilchrist,PF,26,CHO,12,160,6.1,0.421,0.321,0.17\\r\\nMichael Kidd-Gilchrist,SF,26,DAL,13,121,1.7,0.395,0.231,0.385\\r\\nLouis King,SF,20,DET,10,62,6.2,0.448,0.524,0.143\\r\\nMaxi Kleber,C,28,DAL,74,1890,13.6,0.605,0.621,0.181\\r\\nBrandon Knight,PG,28,TOT,25,462,8.5,0.503,0.784,0.204\\r\\nBrandon Knight,PG,28,CLE,16,241,5.4,0.431,0.744,0.151\\r\\nBrandon Knight,PG,28,DET,9,221,11.9,0.576,0.827,0.259\\r\\nKevin Knox,SF,20,NYK,65,1166,8.3,0.47,0.496,0.252\\r\\nJohn Konchar,SG,23,MEM,19,181,18,0.713,0.27,0.054\\r\\nFurkan Korkmaz,SG,22,PHI,72,1559,12,0.579,0.632,0.181\\r\\nLuke Kornet,C,24,CHI,36,559,12.7,0.539,0.578,0.15\\r\\nKyle Korver,SF,38,MIL,58,960,11.3,0.62,0.809,0.14\\r\\nRodions Kurucs,PF,21,BRK,47,684,8.9,0.555,0.508,0.215\\r\\nKyle Kuzma,PF,24,LAL,61,1526,12.2,0.531,0.407,0.232\\r\\nSkal Labissi\\xc3\\xa8re,C,23,POR,33,567,15.4,0.588,0.088,0.224\\r\\nJeremy Lamb,SG,27,IND,46,1291,14,0.547,0.33,0.23\\r\\nRomeo Langford,SG,20,BOS,32,370,5.4,0.434,0.338,0.313\\r\\nZach LaVine,SG,24,CHI,60,2085,19.4,0.568,0.404,0.279\\r\\nVic Law,SF,24,ORL,8,62,3.7,0.363,0.389,0.333\\r\\nJake Layman,PF,25,MIN,23,505,10.3,0.544,0.402,0.179\\r\\nT.J. Leaf,PF,22,IND,28,222,12.9,0.451,0.209,0.186\\r\\nJalen Lecque,PG,19,PHO,5,32,2.7,0.46,0.4,0.2\\r\\nCourtney Lee,SG,34,DAL,24,345,10.8,0.629,0.573,0.085\\r\\nDamion Lee,SG,27,GSW,49,1423,12.7,0.548,0.468,0.247\\r\\nAlex Len,C,26,TOT,55,970,17.7,0.6,0.185,0.329\\r\\nAlex Len,C,26,ATL,40,745,17.5,0.59,0.215,0.312\\r\\nAlex Len,C,26,SAC,15,225,18.2,0.64,0.051,0.407\\r\\nKawhi Leonard,SF,28,LAC,57,1848,26.9,0.589,0.287,0.355\\r\\nMeyers Leonard,C,27,MIA,51,1034,10.6,0.627,0.547,0.12\\r\\nCaris LeVert,SG,25,BRK,45,1330,16.1,0.514,0.301,0.269\\r\\nDamian Lillard,PG,29,POR,66,2474,26.9,0.627,0.5,0.384\\r\\nNassir Little,PF,19,POR,48,573,9.6,0.505,0.391,0.291\\r\\nKevon Looney,C,23,GSW,20,262,9.4,0.403,0.177,0.152\\r\\nBrook Lopez,C,31,MIL,68,1817,15,0.551,0.484,0.227\\r\\nRobin Lopez,C,31,MIL,66,958,10.2,0.554,0.351,0.177\\r\\nKevin Love,PF,31,CLE,56,1780,17.9,0.599,0.536,0.301\\r\\nKyle Lowry,PG,33,TOR,58,2098,17.7,0.59,0.58,0.427\\r\\nTimoth\\xc3\\xa9 Luwawu-Cabarrot,SG,24,BRK,47,853,11,0.599,0.595,0.301\\r\\nTrey Lyles,PF,24,SAS,63,1271,12.6,0.557,0.49,0.131\\r\\nDaryl Macon,SG,24,MIA,4,14,-3.1,0.5,0.667,0\\r\\nJ.P. Macura,SG,24,CLE,1,1,0,,,\\r\\nJosh Magette,PG,30,ORL,8,38,5.1,0.378,0.267,0.133\\r\\nIan Mahinmi,C,33,WAS,38,808,14.2,0.545,0.124,0.538\\r\\nThon Maker,C,22,DET,60,776,13.7,0.582,0.332,0.57\\r\\nTerance Mann,SG,23,LAC,41,362,10.6,0.545,0.253,0.342\\r\\nBoban Marjanovi\\xc4\\x87,C,31,DAL,44,422,25.7,0.612,0.081,0.27\\r\\nLauri Markkanen,PF,22,CHI,50,1492,14.3,0.56,0.536,0.259\\r\\nCaleb Martin,SF,24,CHO,18,317,12,0.595,0.44,0.25\\r\\nCody Martin,SF,24,CHO,48,903,10.5,0.505,0.372,0.314\\r\\nJeremiah Martin,PG,23,BRK,9,99,21.8,0.541,0.34,0.264\\r\\nKelan Martin,SF,24,MIN,31,495,9.2,0.506,0.53,0.171\\r\\nFrank Mason III,PG,25,MIL,9,118,16.9,0.53,0.412,0.333\\r\\nGarrison Mathews,SG,23,WAS,18,227,13.1,0.691,0.821,0.607\\r\\nWesley Matthews,SG,33,MIL,67,1635,8.1,0.547,0.704,0.161\\r\\nLuc Mbah a Moute,PF,33,HOU,3,25,6.4,0.425,0.4,0.4\\r\\nPatrick McCaw,SF,24,TOR,37,908,7.3,0.5,0.438,0.111\\r\\nCJ McCollum,SG,28,POR,70,2556,17,0.541,0.378,0.136\\r\\nT.J. McConnell,PG,27,IND,71,1326,16.5,0.54,0.041,0.102\\r\\nJalen McDaniels,PF,22,CHO,16,293,10.7,0.574,0.343,0.243\\r\\nDoug McDermott,PF,28,IND,69,1372,14.4,0.62,0.537,0.106\\r\\nJaVale McGee,C,32,LAL,68,1130,19.4,0.652,0.02,0.268\\r\\nRodney McGruder,SG,28,LAC,56,871,6.7,0.477,0.492,0.188\\r\\nAlfonzo McKinnie,SF,27,CLE,40,593,8.7,0.493,0.38,0.181\\r\\nJordan McLaughlin,PG,23,MIN,30,590,16.3,0.587,0.427,0.219\\r\\nBen McLemore,SG,26,HOU,71,1619,11.8,0.622,0.829,0.123\\r\\nJordan McRae,SG,28,TOT,37,784,14.2,0.515,0.344,0.298\\r\\nJordan McRae,SG,28,WAS,29,654,15.2,0.523,0.334,0.262\\r\\nJordan McRae,SG,28,DEN,4,32,16.7,0.58,0.667,0.667\\r\\nJordan McRae,SG,28,DET,4,98,6.5,0.446,0.372,0.512\\r\\nNicol\\xc3\\xb2 Melli,C,29,NOP,60,1042,11.4,0.556,0.638,0.226\\r\\nDe'Anthony Melton,PG,21,MEM,60,1167,13.5,0.501,0.349,0.302\\r\\nChimezie Metu,PF,22,SAS,18,105,22.2,0.608,0.048,0.31\\r\\nKhris Middleton,SF,28,MIL,62,1853,21.1,0.619,0.374,0.24\\r\\nEric Mika,PF,25,SAC,1,19,13.9,0.773,0,0.667\\r\\nC.J. Miles,SG,32,WAS,10,161,11.1,0.472,0.593,0.339\\r\\nMalcolm Miller,SF,26,TOR,28,162,6.7,0.538,0.759,0.276\\r\\nPatty Mills,PG,31,SAS,66,1485,14.8,0.592,0.674,0.187\\r\\nPaul Millsap,PF,34,DEN,51,1240,16.9,0.591,0.283,0.322\\r\\nShake Milton,SG,23,PHI,40,805,14.4,0.617,0.487,0.235\\r\\nDonovan Mitchell,SG,23,UTA,69,2364,18.8,0.558,0.352,0.24\\r\\nNaz Mitrou-Long,SG,26,IND,5,47,7.8,0.412,0.706,0\\r\\nAdam Mokoka,SG,21,CHI,11,112,8.2,0.538,0.536,0.143\\r\\nMalik Monk,SG,21,CHO,55,1169,12.6,0.53,0.418,0.205\\r\\nMatt Mooney,SG,22,CLE,4,19,8.1,0.25,0.5,0\\r\\nE'Twaun Moore,SG,30,NOP,56,1020,11.3,0.51,0.382,0.103\\r\\nJa Morant,PG,20,MEM,67,2074,17.4,0.556,0.191,0.329\\r\\nJuwan Morgan,PF,22,UTA,21,134,10.1,0.648,0.308,0.154\\r\\nMarcus Morris,SF-PF,30,TOT,62,1936,14.3,0.57,0.43,0.272\\r\\nMarcus Morris,SF,30,NYK,43,1387,16.5,0.582,0.415,0.311\\r\\nMarcus Morris,PF,30,LAC,19,549,8.9,0.523,0.483,0.126\\r\\nMarkieff Morris,PF,30,TOT,58,1187,12.5,0.565,0.498,0.186\\r\\nMarkieff Morris,PF,30,DET,44,988,12.7,0.573,0.486,0.203\\r\\nMarkieff Morris,PF,30,LAL,14,199,11.5,0.516,0.565,0.087\\r\\nMonte Morris,PG,24,DEN,73,1636,14.9,0.545,0.304,0.157\\r\\nJohnathan Motley,PF,24,LAC,13,41,28.5,0.774,0.067,0.467\\r\\nEmmanuel Mudiay,PG,23,UTA,54,850,13,0.543,0.266,0.254\\r\\nMychal Mulder,SG,25,GSW,7,204,7.8,0.533,0.776,0.179\\r\\nDejounte Murray,PG,23,SAS,66,1687,16.2,0.524,0.174,0.179\\r\\nJamal Murray,PG,22,DEN,59,1904,17.7,0.559,0.362,0.207\\r\\nD\\xc5\\xbeanan Musa,SF,20,BRK,40,487,9.4,0.484,0.453,0.349\\r\\nMike Muscala,C,28,OKC,47,572,12.5,0.569,0.757,0.116\\r\\nSviatoslav Mykhailiuk,SF,22,DET,56,1265,11.2,0.578,0.704,0.173\\r\\nAbdel Nader,SF,26,OKC,55,867,11.3,0.591,0.487,0.251\\r\\nLarry Nance Jr.,C,27,CLE,56,1472,17.3,0.608,0.369,0.172\\r\\nShabazz Napier,PG,28,TOT,56,1344,13.8,0.552,0.526,0.336\\r\\nShabazz Napier,PG,28,MIN,36,856,13.9,0.539,0.562,0.311\\r\\nShabazz Napier,PG,28,WAS,20,488,13.6,0.573,0.468,0.376\\r\\nRaul Neto,PG,27,PHI,54,668,12.7,0.567,0.396,0.212\\r\\nMalik Newman,SG,22,CLE,1,4,-11.4,0.347,0.5,1\\r\\nGeorges Niang,PF,26,UTA,66,923,11.7,0.589,0.699,0.075\\r\\nJoakim Noah,C,34,LAC,5,50,11.1,0.608,0,1\\r\\nNerlens Noel,C,25,OKC,61,1127,20.4,0.711,0.011,0.394\\r\\nZach Norvell,SG,22,TOT,5,41,2.6,0.402,0.667,0.083\\r\\nZach Norvell,SG,22,LAL,2,5,-5.6,0,0,0\\r\\nZach Norvell,SG,22,GSW,3,36,3.7,0.437,0.727,0.091\\r\\nJaylen Nowell,SG,20,MIN,15,151,10.5,0.471,0.491,0.321\\r\\nFrank Ntilikina,PG,21,NYK,57,1187,9.8,0.497,0.411,0.177\\r\\nKendrick Nunn,SG,24,MIA,67,1962,12.9,0.534,0.428,0.109\\r\\nJusuf Nurki\\xc4\\x87,C,25,POR,8,253,22.6,0.567,0.092,0.321\\r\\nDavid Nwaba,SF,27,BRK,20,268,14,0.627,0.394,0.38\\r\\nRoyce O'Neale,PF,26,UTA,71,2049,9.5,0.578,0.668,0.151\\r\\nKyle O'Quinn,C,29,PHI,29,313,18.6,0.544,0.318,0.235\\r\\nSemi Ojeleye,PF,25,BOS,69,1011,7.7,0.562,0.648,0.163\\r\\nJahlil Okafor,C,24,NOP,30,467,18.3,0.642,0.019,0.383\\r\\nElie Okobo,PG,22,PHO,55,719,10.6,0.516,0.392,0.392\\r\\nJosh Okogie,SG,21,MIN,62,1547,11.5,0.553,0.387,0.48\\r\\nKZ Okpala,SF,20,MIA,5,26,13.7,0.595,0.2,0.4\\r\\nVictor Oladipo,SG,27,IND,19,528,11.3,0.506,0.423,0.24\\r\\nKelly Olynyk,C,28,MIA,67,1300,14.6,0.621,0.588,0.251\\r\\nMiye Oni,SG,22,UTA,10,109,9.7,0.512,0.594,0.156\\r\\nCedi Osman,SF,24,CLE,65,1910,10.7,0.552,0.527,0.154\\r\\nKelly Oubre Jr.,SF,24,PHO,56,1933,14.9,0.56,0.372,0.298\\r\\nTariq Owens,PF,24,PHO,3,15,8.4,0.34,0.4,0.4\\r\\nJeremy Pargo,PG,33,GSW,3,44,12.6,0.557,0.318,0.045\\r\\nJabari Parker,PF,24,TOT,38,917,18,0.571,0.277,0.189\\r\\nJabari Parker,PF,24,ATL,32,837,17.2,0.565,0.293,0.183\\r\\nJabari Parker,PF,24,SAC,6,80,26.5,0.638,0.111,0.25\\r\\nChandler Parsons,SF,31,ATL,5,54,5.6,0.389,0.778,0\\r\\nEric Paschall,PF,23,GSW,60,1654,14.5,0.571,0.202,0.331\\r\\nAn\\xc5\\xbeejs Pase\\xc4\\x8d\\xc5\\x86iks,C,24,WAS,27,437,11.3,0.551,0.026,0.5\\r\\nPatrick Patterson,PF,30,LAC,59,776,11.5,0.58,0.738,0.185\\r\\nJustin Patton,C,22,OKC,5,24,4.7,0.45,0.4,0\\r\\nChris Paul,PG,34,OKC,70,2208,21.7,0.61,0.343,0.315\\r\\nCameron Payne,PG,25,PHO,8,183,15.7,0.612,0.426,0.103\\r\\nElfrid Payton,PG,25,NYK,45,1246,16,0.47,0.157,0.195\\r\\nGary Payton II,PG,27,WAS,29,432,11.3,0.473,0.397,0.069\\r\\nNorvel Pelle,C,26,PHI,24,232,10.5,0.526,0.021,0.292\\r\\nTheo Pinson,SG,24,BRK,33,365,5.2,0.37,0.516,0.103\\r\\nMason Plumlee,C,29,DEN,61,1057,18.8,0.613,0.017,0.538\\r\\nJakob Poeltl,C,24,SAS,66,1171,19.1,0.612,0,0.323\\r\\nVincent Poirier,C,26,BOS,22,130,12.7,0.525,0.056,0.194\\r\\nShamorie Ponds,PG,21,TOR,4,11,33.1,0.765,0.4,0.4\\r\\nJordan Poole,SG,20,GSW,57,1274,7.2,0.454,0.528,0.237\\r\\nKevin Porter Jr.,SF,19,CLE,50,1162,10.8,0.535,0.375,0.24\\r\\nMichael Porter Jr.,PF,21,DEN,55,903,19.8,0.617,0.384,0.188\\r\\nOtto Porter,SF,26,CHI,14,331,15.8,0.55,0.443,0.193\\r\\nBobby Portis,C,24,NYK,66,1393,14.6,0.53,0.317,0.158\\r\\nKristaps Porzi\\xc5\\x86\\xc4\\xa3is,PF,24,DAL,57,1814,20.2,0.551,0.432,0.304\\r\\nDwight Powell,C,28,DAL,40,1061,15.9,0.677,0.17,0.485\\r\\nNorman Powell,SG,26,TOR,52,1479,16.8,0.624,0.457,0.256\\r\\nChasson Randle,PG,26,GSW,3,40,6.7,0.377,0.5,1.5\\r\\nJulius Randle,PF,25,NYK,64,2080,17.5,0.538,0.23,0.35\\r\\nJosh Reaves,SG,22,DAL,4,28,5.8,0.405,0.222,0.222\\r\\nCam Reddish,SF,20,ATL,58,1551,9,0.5,0.451,0.227\\r\\nJ.J. Redick,SG,35,NOP,60,1581,15.4,0.644,0.629,0.293\\r\\nNaz Reid,C,20,MIN,30,495,15.3,0.505,0.399,0.218\\r\\nJosh Richardson,SG,26,PHI,55,1693,12,0.533,0.385,0.218\\r\\nAustin Rivers,SG,27,HOU,68,1594,10.4,0.542,0.539,0.222\\r\\nAndre Roberson,SG,28,OKC,7,87,5.4,0.335,0.483,0.069\\r\\nDuncan Robinson,SF,25,MIA,73,2166,13.1,0.684,0.882,0.105\\r\\nGlenn Robinson III,SF,26,TOT,62,1786,13.3,0.577,0.333,0.145\\r\\nGlenn Robinson III,SF,26,GSW,48,1516,13.1,0.574,0.335,0.146\\r\\nGlenn Robinson III,SF,26,PHI,14,270,14.7,0.598,0.318,0.141\\r\\nJerome Robinson,SG,22,TOT,63,979,7.4,0.476,0.494,0.184\\r\\nJerome Robinson,SG,22,LAC,42,476,4.8,0.423,0.493,0.14\\r\\nJerome Robinson,SG,22,WAS,21,503,9.8,0.516,0.494,0.218\\r\\nJustin Robinson,PG,22,WAS,9,49,8.2,0.542,0.417,0\\r\\nMitchell Robinson,C,21,NYK,61,1412,23.5,0.726,0,0.434\\r\\nIsaiah Roby,SF,21,OKC,3,11,-7.7,0,0,0\\r\\nRajon Rondo,PG,33,LAL,48,984,12.4,0.494,0.381,0.125\\r\\nDerrick Rose,PG,31,DET,50,1298,21,0.555,0.195,0.185\\r\\nTerrence Ross,SG,28,ORL,69,1889,14,0.548,0.596,0.217\\r\\nTerry Rozier,PG,25,CHO,63,2164,14.8,0.553,0.45,0.202\\r\\nRicky Rubio,PG,29,PHO,65,2016,16.5,0.535,0.312,0.327\\r\\nD'Angelo Russell,PG,23,TOT,45,1452,18.7,0.556,0.509,0.235\\r\\nD'Angelo Russell,PG,23,GSW,33,1060,19.1,0.558,0.506,0.227\\r\\nD'Angelo Russell,PG,23,MIN,12,392,17.6,0.553,0.521,0.261\\r\\nDomantas Sabonis,PF,23,IND,62,2159,20.7,0.586,0.079,0.349\\r\\nLuka \\xc5\\xa0amani\\xc4\\x87,PF,20,SAS,3,48,8.8,0.45,0.5,0.25\\r\\nJaKarr Sampson,SF,26,IND,34,471,12.6,0.615,0.113,0.235\\r\\nDario \\xc5\\xa0ari\\xc4\\x87,PF,25,PHO,66,1632,14.2,0.592,0.437,0.238\\r\\nTom\\xc3\\xa1\\xc5\\xa1 Satoransk\\xc3\\xbd,PG,28,CHI,65,1878,13.5,0.533,0.361,0.22\\r\\nAdmiral Schofield,SF,22,WAS,33,368,6.1,0.502,0.663,0.163\\r\\nDennis Schr\\xc3\\xb6der,PG,26,OKC,65,1999,16.7,0.575,0.337,0.245\\r\\nMike Scott,PF,31,PHI,68,1207,11.2,0.557,0.62,0.106\\r\\nThabo Sefolosha,PF,35,HOU,41,436,9.4,0.487,0.593,0.088\\r\\nCollin Sexton,SG,21,CLE,65,2143,16.3,0.56,0.235,0.246\\r\\nLandry Shamet,SG,22,LAC,53,1452,8.5,0.58,0.757,0.194\\r\\nMarial Shayok,SG,24,PHI,4,28,1.4,0.4,0.5,0.333\\r\\nIman Shumpert,SG,29,BRK,13,241,5.3,0.403,0.516,0.109\\r\\nPascal Siakam,PF,25,TOR,60,2110,17.9,0.554,0.331,0.274\\r\\nChris Silva,PF,23,MIA,44,346,17.3,0.651,0.038,0.705\\r\\nBen Simmons,PG,23,PHI,57,2017,20.4,0.602,0.011,0.461\\r\\nAnfernee Simons,SG,20,POR,70,1449,9,0.502,0.422,0.172\\r\\nAlen Smailagi\\xc4\\x87,PF,19,GSW,14,139,14.5,0.61,0.325,0.475\\r\\nMarcus Smart,SG,25,BOS,60,1919,13.8,0.518,0.579,0.223\\r\\nDennis Smith Jr.,PG,22,NYK,34,537,7.4,0.399,0.256,0.251\\r\\nIsh Smith,PG,31,WAS,68,1787,13.9,0.509,0.245,0.125\\r\\nJ.R. Smith,SG,34,LAL,6,79,0,0.372,0.5,0.091\\r\\nZhaire Smith,SG,20,PHI,7,32,1.1,0.313,0.273,0.364\\r\\nTony Snell,SF,28,DET,59,1641,9.7,0.598,0.665,0.084\\r\\nOmari Spellman,PF,22,GSW,49,886,14.4,0.551,0.373,0.312\\r\\nMax Strus,SG,23,CHI,2,6,30.7,0.727,0.333,0.333\\r\\nEdmond Sumner,PG,24,IND,31,447,10.1,0.491,0.373,0.204\\r\\nCaleb Swanigan,PF,22,TOT,27,288,7.6,0.597,0.043,0.362\\r\\nCaleb Swanigan,PF,22,SAC,7,23,-0.1,0.512,0,0.5\\r\\nCaleb Swanigan,PF,22,POR,20,265,8.2,0.605,0.047,0.349\\r\\nJayson Tatum,PF,21,BOS,66,2265,20.4,0.567,0.383,0.255\\r\\nJeff Teague,PG,31,TOT,59,1464,14.6,0.557,0.239,0.403\\r\\nJeff Teague,PG,31,MIN,34,945,15.9,0.578,0.269,0.444\\r\\nJeff Teague,PG,31,ATL,25,519,12.2,0.512,0.182,0.321\\r\\nGarrett Temple,SG,33,BRK,62,1730,10.5,0.513,0.658,0.148\\r\\nDaniel Theis,C,27,BOS,65,1566,17.9,0.631,0.225,0.268\\r\\nIsaiah Thomas,PG,30,WAS,40,925,11.6,0.531,0.444,0.178\\r\\nKhyri Thomas,SG,23,DET,8,61,3.1,0.453,0.824,0.235\\r\\nLance Thomas,SF,31,BRK,7,98,3,0.485,0.565,0.174\\r\\nMatt Thomas,SG,25,TOR,41,440,13.3,0.65,0.66,0.08\\r\\nTristan Thompson,C,28,CLE,57,1721,16.8,0.54,0.041,0.286\\r\\nSindarius Thornwell,SG,25,NOP,2,35,14.7,0.627,0.364,0.364\\r\\nMatisse Thybulle,SG,22,PHI,65,1287,10,0.539,0.592,0.155\\r\\nAnthony Tolliver,PF,34,TOT,55,872,7,0.513,0.797,0.159\\r\\nAnthony Tolliver,PF,34,POR,33,554,7.5,0.515,0.761,0.162\\r\\nAnthony Tolliver,PF,34,SAC,9,82,0.2,0.252,0.882,0.118\\r\\nAnthony Tolliver,PF,34,MEM,13,236,8,0.602,0.854,0.167\\r\\nJuan Toscano-Anderson,SF,26,GSW,13,272,9.4,0.529,0.365,0.079\\r\\nKarl-Anthony Towns,C,24,MIN,35,1187,26.5,0.642,0.445,0.363\\r\\nGary Trent Jr.,SG,21,POR,61,1332,12.9,0.587,0.608,0.102\\r\\nAllonzo Trier,PG,24,NYK,24,291,14.5,0.62,0.5,0.406\\r\\nP.J. Tucker,PF,34,HOU,72,2467,8.3,0.559,0.702,0.113\\r\\nRayjon Tucker,SG,22,UTA,20,161,9.7,0.584,0.395,0.535\\r\\nEvan Turner,PG,31,ATL,19,251,6.8,0.424,0.075,0.209\\r\\nMyles Turner,C,23,IND,62,1826,14.8,0.566,0.426,0.288\\r\\nJarrod Uthoff,SF,26,TOT,7,53,8.8,0.503,0.5,0.111\\r\\nJarrod Uthoff,SF,26,MEM,4,14,-0.1,0.254,0.571,0.286\\r\\nJarrod Uthoff,SF,26,WAS,3,39,12,0.682,0.455,0\\r\\nJonas Valan\\xc4\\x8di\\xc5\\xabnas,C,27,MEM,70,1845,22.2,0.631,0.123,0.271\\r\\nDenzel Valentine,SF,26,CHI,36,488,13,0.511,0.578,0.034\\r\\nJarred Vanderbilt,SF-PF,20,TOT,11,46,7.6,0.676,0.125,0.25\\r\\nJarred Vanderbilt,SF,20,DEN,9,41,7.2,0.714,0,0\\r\\nJarred Vanderbilt,PF,20,MIN,2,5,11.1,0.532,1,2\\r\\nFred VanVleet,PG,25,TOR,54,1928,16.3,0.553,0.484,0.256\\r\\nGabe Vincent,PG,23,MIA,9,83,1.2,0.297,0.73,0\\r\\nNoah Vonleh,C-PF,24,TOT,36,377,15.5,0.622,0.163,0.348\\r\\nNoah Vonleh,C,24,MIN,29,347,15.3,0.605,0.163,0.326\\r\\nNoah Vonleh,PF,24,DEN,7,30,17.6,0.838,0.167,0.667\\r\\nNikola Vu\\xc4\\x8devi\\xc4\\x87,C,29,ORL,62,1998,21.9,0.549,0.28,0.162\\r\\nDean Wade,PF,23,CLE,12,71,13.9,0.744,0.308,0.077\\r\\nMoritz Wagner,C,22,WAS,45,835,15.1,0.638,0.301,0.357\\r\\nDion Waiters,SG,28,TOT,10,207,11.5,0.521,0.475,0.172\\r\\nDion Waiters,SG,28,MIA,3,42,13.4,0.53,0.654,0.038\\r\\nDion Waiters,SG,28,LAL,7,165,11,0.518,0.411,0.219\\r\\nKemba Walker,PG,29,BOS,56,1742,20,0.575,0.532,0.272\\r\\nLonnie Walker,SG,21,SAS,61,988,10.5,0.507,0.283,0.171\\r\\nTyrone Wallace,SG,25,ATL,14,160,3.9,0.389,0.341,0.386\\r\\nTaurean Prince,SF,25,BRK,64,1857,9.1,0.497,0.583,0.12\\r\\nDerrick Walton,PG,24,TOT,26,248,8.7,0.617,0.615,0.231\\r\\nDerrick Walton,PG,24,LAC,23,222,8.4,0.626,0.583,0.25\\r\\nDerrick Walton,PG,24,DET,3,26,11.3,0.5,1,0\\r\\nBrad Wanamaker,PG,30,BOS,71,1369,12.8,0.577,0.282,0.376\\r\\nT.J. Warren,SF,26,IND,67,2202,18.4,0.61,0.227,0.205\\r\\nP.J. Washington,PF,21,CHO,58,1759,12.4,0.547,0.39,0.231\\r\\nYuta Watanabe,SG,25,MEM,18,105,11.2,0.48,0.235,0.235\\r\\nTremont Waters,PG,22,BOS,11,119,4.3,0.381,0.49,0.163\\r\\nPaul Watson,SF-SG,25,TOT,10,87,12.6,0.517,0.462,0.346\\r\\nPaul Watson,SG,25,ATL,2,17,-7.1,0,0.429,0\\r\\nPaul Watson,SF,25,TOR,8,70,17.3,0.675,0.474,0.474\\r\\nQuinndary Weatherspoon,SG,23,SAS,11,78,3.2,0.336,0.294,0.118\\r\\nRussell Westbrook,PG,31,HOU,57,2049,21,0.536,0.166,0.297\\r\\nCoby White,SG,19,CHI,65,1674,11.9,0.506,0.475,0.163\\r\\nDerrick White,SG,25,SAS,68,1677,16.4,0.593,0.391,0.382\\r\\nHassan Whiteside,C,30,POR,67,2008,25,0.644,0.01,0.34\\r\\nAndrew Wiggins,SF-SG,24,TOT,54,1858,16.4,0.536,0.342,0.274\\r\\nAndrew Wiggins,SF,24,MIN,42,1455,16.1,0.535,0.348,0.262\\r\\nAndrew Wiggins,SG,24,GSW,12,403,17.5,0.542,0.314,0.324\\r\\nGrant Williams,PF,21,BOS,69,1043,7.9,0.505,0.455,0.256\\r\\nJohnathan Williams,C,24,WAS,15,180,14,0.566,0.059,0.382\\r\\nKenrich Williams,PF,25,NOP,39,832,7.5,0.429,0.66,0.177\\r\\nLou Williams,SG,33,LAC,65,1864,17.3,0.546,0.337,0.362\\r\\nMarvin Williams,PF,33,TOT,58,1129,11.2,0.587,0.584,0.213\\r\\nMarvin Williams,PF,33,CHO,41,808,11.8,0.593,0.557,0.238\\r\\nMarvin Williams,PF,33,MIL,17,321,9.8,0.566,0.684,0.123\\r\\nRobert Williams,C,22,BOS,29,388,23.1,0.728,0,0.386\\r\\nNigel Williams-Goss,PG,25,UTA,10,50,8.1,0.415,0.438,0.125\\r\\nZion Williamson,PF,19,NOP,24,668,24.1,0.616,0.039,0.494\\r\\nD.J. Wilson,PF,23,MIL,37,363,8.2,0.475,0.553,0.136\\r\\nJustise Winslow,SF,23,MIA,11,352,8.5,0.44,0.209,0.209\\r\\nChristian Wood,PF,24,DET,62,1325,23.2,0.659,0.276,0.476\\r\\nDelon Wright,SG,27,DAL,73,1570,15.4,0.554,0.309,0.243\\r\\nJustin Wright-Foreman,PG,22,UTA,4,45,8.8,0.437,0.5,0.2\\r\\nThaddeus Young,PF,31,CHI,64,1591,13.3,0.521,0.369,0.12\\r\\nTrae Young,PG,21,ATL,60,2120,23.9,0.595,0.455,0.448\\r\\nCody Zeller,C,27,CHO,58,1341,18.8,0.576,0.157,0.374\\r\\nTyler Zeller,C,30,SAS,2,4,22.4,0.25,0,0\\r\\nAnte \\xc5\\xbdi\\xc5\\xbei\\xc4\\x87,C,23,CLE,22,221,16.4,0.597,0,0.264\\r\\nIvica Zubac,C,22,LAC,72,1326,21.7,0.651,0.005,0.431\\r\\n\"}"
            ]
          },
          "metadata": {},
          "execution_count": 11
        }
      ],
      "source": [
        "from google.colab import files\n",
        "files.upload()"
      ]
    },
    {
      "cell_type": "code",
      "source": [
        "import pandas as pd\n",
        "#dataframe\n",
        "df = pd.read_csv(\"nba_2020_advancedd.csv\")\n",
        "print(df.head())\n",
        "\n",
        "#Tm Team Name\n",
        "#G Games Played\n",
        "#MP Minutes Played\n",
        "#PER Player Efficiency Rating\n",
        "#TS% True Shooting Percentage\n",
        "#3PAr 3-Point Attempt Rate\n",
        "#FTr Free Throw Rate\n"
      ],
      "metadata": {
        "colab": {
          "base_uri": "https://localhost:8080/"
        },
        "id": "p8NFv4Rduu0J",
        "outputId": "ce11b9e2-4b90-4082-c9aa-2b97946a6e46"
      },
      "execution_count": null,
      "outputs": [
        {
          "output_type": "stream",
          "name": "stdout",
          "text": [
            "                     Player Pos  Age   Tm   G    MP   PER    TS%   3PAr    FTr\n",
            "0              Steven Adams   C   26  OKC  63  1680  20.5  0.604  0.006  0.421\n",
            "1               Bam Adebayo  PF   22  MIA  72  2417  20.3  0.598  0.018  0.484\n",
            "2         LaMarcus Aldridge   C   34  SAS  53  1754  19.7  0.571  0.198  0.241\n",
            "3            Kyle Alexander  PF   23  MIA   2    13   4.7  0.500  0.000  0.000\n",
            "4  Nickeil Alexander-Walker  SG   21  NOP  47   591   8.9  0.473  0.500  0.139\n"
          ]
        }
      ]
    },
    {
      "cell_type": "code",
      "source": [
        "num_df = df[[\"Age\", \"G\",\"MP\", \"PER\",\"TS%\", \"3PAr\", \"FTr\"]]\n",
        "print(num_df)"
      ],
      "metadata": {
        "colab": {
          "base_uri": "https://localhost:8080/"
        },
        "id": "-hheehrg0nXb",
        "outputId": "1bd1b3ee-7e60-4260-d711-1bb1f6b36f84"
      },
      "execution_count": null,
      "outputs": [
        {
          "output_type": "stream",
          "name": "stdout",
          "text": [
            "     Age   G    MP   PER    TS%   3PAr    FTr\n",
            "0     26  63  1680  20.5  0.604  0.006  0.421\n",
            "1     22  72  2417  20.3  0.598  0.018  0.484\n",
            "2     34  53  1754  19.7  0.571  0.198  0.241\n",
            "3     23   2    13   4.7  0.500  0.000  0.000\n",
            "4     21  47   591   8.9  0.473  0.500  0.139\n",
            "..   ...  ..   ...   ...    ...    ...    ...\n",
            "646   21  60  2120  23.9  0.595  0.455  0.448\n",
            "647   27  58  1341  18.8  0.576  0.157  0.374\n",
            "648   30   2     4  22.4  0.250  0.000  0.000\n",
            "649   23  22   221  16.4  0.597  0.000  0.264\n",
            "650   22  72  1326  21.7  0.651  0.005  0.431\n",
            "\n",
            "[651 rows x 7 columns]\n"
          ]
        }
      ]
    },
    {
      "cell_type": "code",
      "source": [
        "num_df.describe()"
      ],
      "metadata": {
        "colab": {
          "base_uri": "https://localhost:8080/",
          "height": 364
        },
        "id": "M5N3q-T61Om8",
        "outputId": "760c74b2-d15c-4532-a8d7-316fdc3ce5de"
      },
      "execution_count": null,
      "outputs": [
        {
          "output_type": "execute_result",
          "data": {
            "text/html": [
              "\n",
              "  <div id=\"df-71ceac52-9161-4d8e-ab27-98538d9ab3e0\">\n",
              "    <div class=\"colab-df-container\">\n",
              "      <div>\n",
              "<style scoped>\n",
              "    .dataframe tbody tr th:only-of-type {\n",
              "        vertical-align: middle;\n",
              "    }\n",
              "\n",
              "    .dataframe tbody tr th {\n",
              "        vertical-align: top;\n",
              "    }\n",
              "\n",
              "    .dataframe thead th {\n",
              "        text-align: right;\n",
              "    }\n",
              "</style>\n",
              "<table border=\"1\" class=\"dataframe\">\n",
              "  <thead>\n",
              "    <tr style=\"text-align: right;\">\n",
              "      <th></th>\n",
              "      <th>Age</th>\n",
              "      <th>G</th>\n",
              "      <th>MP</th>\n",
              "      <th>PER</th>\n",
              "      <th>TS%</th>\n",
              "      <th>3PAr</th>\n",
              "      <th>FTr</th>\n",
              "    </tr>\n",
              "  </thead>\n",
              "  <tbody>\n",
              "    <tr>\n",
              "      <th>count</th>\n",
              "      <td>651.000000</td>\n",
              "      <td>651.00000</td>\n",
              "      <td>651.000000</td>\n",
              "      <td>651.000000</td>\n",
              "      <td>649.000000</td>\n",
              "      <td>649.000000</td>\n",
              "      <td>649.000000</td>\n",
              "    </tr>\n",
              "    <tr>\n",
              "      <th>mean</th>\n",
              "      <td>25.763441</td>\n",
              "      <td>38.21659</td>\n",
              "      <td>864.158218</td>\n",
              "      <td>12.728111</td>\n",
              "      <td>0.538361</td>\n",
              "      <td>0.392926</td>\n",
              "      <td>0.259139</td>\n",
              "    </tr>\n",
              "    <tr>\n",
              "      <th>std</th>\n",
              "      <td>4.024840</td>\n",
              "      <td>22.94443</td>\n",
              "      <td>707.915007</td>\n",
              "      <td>6.135142</td>\n",
              "      <td>0.101114</td>\n",
              "      <td>0.212596</td>\n",
              "      <td>0.184152</td>\n",
              "    </tr>\n",
              "    <tr>\n",
              "      <th>min</th>\n",
              "      <td>19.000000</td>\n",
              "      <td>1.00000</td>\n",
              "      <td>1.000000</td>\n",
              "      <td>-13.700000</td>\n",
              "      <td>0.000000</td>\n",
              "      <td>0.000000</td>\n",
              "      <td>0.000000</td>\n",
              "    </tr>\n",
              "    <tr>\n",
              "      <th>25%</th>\n",
              "      <td>23.000000</td>\n",
              "      <td>15.50000</td>\n",
              "      <td>221.000000</td>\n",
              "      <td>9.400000</td>\n",
              "      <td>0.504000</td>\n",
              "      <td>0.273000</td>\n",
              "      <td>0.155000</td>\n",
              "    </tr>\n",
              "    <tr>\n",
              "      <th>50%</th>\n",
              "      <td>25.000000</td>\n",
              "      <td>41.00000</td>\n",
              "      <td>734.000000</td>\n",
              "      <td>12.500000</td>\n",
              "      <td>0.551000</td>\n",
              "      <td>0.404000</td>\n",
              "      <td>0.228000</td>\n",
              "    </tr>\n",
              "    <tr>\n",
              "      <th>75%</th>\n",
              "      <td>28.000000</td>\n",
              "      <td>59.00000</td>\n",
              "      <td>1435.500000</td>\n",
              "      <td>16.300000</td>\n",
              "      <td>0.590000</td>\n",
              "      <td>0.526000</td>\n",
              "      <td>0.329000</td>\n",
              "    </tr>\n",
              "    <tr>\n",
              "      <th>max</th>\n",
              "      <td>43.000000</td>\n",
              "      <td>74.00000</td>\n",
              "      <td>2556.000000</td>\n",
              "      <td>33.200000</td>\n",
              "      <td>0.902000</td>\n",
              "      <td>1.000000</td>\n",
              "      <td>2.000000</td>\n",
              "    </tr>\n",
              "  </tbody>\n",
              "</table>\n",
              "</div>\n",
              "      <button class=\"colab-df-convert\" onclick=\"convertToInteractive('df-71ceac52-9161-4d8e-ab27-98538d9ab3e0')\"\n",
              "              title=\"Convert this dataframe to an interactive table.\"\n",
              "              style=\"display:none;\">\n",
              "        \n",
              "  <svg xmlns=\"http://www.w3.org/2000/svg\" height=\"24px\"viewBox=\"0 0 24 24\"\n",
              "       width=\"24px\">\n",
              "    <path d=\"M0 0h24v24H0V0z\" fill=\"none\"/>\n",
              "    <path d=\"M18.56 5.44l.94 2.06.94-2.06 2.06-.94-2.06-.94-.94-2.06-.94 2.06-2.06.94zm-11 1L8.5 8.5l.94-2.06 2.06-.94-2.06-.94L8.5 2.5l-.94 2.06-2.06.94zm10 10l.94 2.06.94-2.06 2.06-.94-2.06-.94-.94-2.06-.94 2.06-2.06.94z\"/><path d=\"M17.41 7.96l-1.37-1.37c-.4-.4-.92-.59-1.43-.59-.52 0-1.04.2-1.43.59L10.3 9.45l-7.72 7.72c-.78.78-.78 2.05 0 2.83L4 21.41c.39.39.9.59 1.41.59.51 0 1.02-.2 1.41-.59l7.78-7.78 2.81-2.81c.8-.78.8-2.07 0-2.86zM5.41 20L4 18.59l7.72-7.72 1.47 1.35L5.41 20z\"/>\n",
              "  </svg>\n",
              "      </button>\n",
              "      \n",
              "  <style>\n",
              "    .colab-df-container {\n",
              "      display:flex;\n",
              "      flex-wrap:wrap;\n",
              "      gap: 12px;\n",
              "    }\n",
              "\n",
              "    .colab-df-convert {\n",
              "      background-color: #E8F0FE;\n",
              "      border: none;\n",
              "      border-radius: 50%;\n",
              "      cursor: pointer;\n",
              "      display: none;\n",
              "      fill: #1967D2;\n",
              "      height: 32px;\n",
              "      padding: 0 0 0 0;\n",
              "      width: 32px;\n",
              "    }\n",
              "\n",
              "    .colab-df-convert:hover {\n",
              "      background-color: #E2EBFA;\n",
              "      box-shadow: 0px 1px 2px rgba(60, 64, 67, 0.3), 0px 1px 3px 1px rgba(60, 64, 67, 0.15);\n",
              "      fill: #174EA6;\n",
              "    }\n",
              "\n",
              "    [theme=dark] .colab-df-convert {\n",
              "      background-color: #3B4455;\n",
              "      fill: #D2E3FC;\n",
              "    }\n",
              "\n",
              "    [theme=dark] .colab-df-convert:hover {\n",
              "      background-color: #434B5C;\n",
              "      box-shadow: 0px 1px 3px 1px rgba(0, 0, 0, 0.15);\n",
              "      filter: drop-shadow(0px 1px 2px rgba(0, 0, 0, 0.3));\n",
              "      fill: #FFFFFF;\n",
              "    }\n",
              "  </style>\n",
              "\n",
              "      <script>\n",
              "        const buttonEl =\n",
              "          document.querySelector('#df-71ceac52-9161-4d8e-ab27-98538d9ab3e0 button.colab-df-convert');\n",
              "        buttonEl.style.display =\n",
              "          google.colab.kernel.accessAllowed ? 'block' : 'none';\n",
              "\n",
              "        async function convertToInteractive(key) {\n",
              "          const element = document.querySelector('#df-71ceac52-9161-4d8e-ab27-98538d9ab3e0');\n",
              "          const dataTable =\n",
              "            await google.colab.kernel.invokeFunction('convertToInteractive',\n",
              "                                                     [key], {});\n",
              "          if (!dataTable) return;\n",
              "\n",
              "          const docLinkHtml = 'Like what you see? Visit the ' +\n",
              "            '<a target=\"_blank\" href=https://colab.research.google.com/notebooks/data_table.ipynb>data table notebook</a>'\n",
              "            + ' to learn more about interactive tables.';\n",
              "          element.innerHTML = '';\n",
              "          dataTable['output_type'] = 'display_data';\n",
              "          await google.colab.output.renderOutput(dataTable, element);\n",
              "          const docLink = document.createElement('div');\n",
              "          docLink.innerHTML = docLinkHtml;\n",
              "          element.appendChild(docLink);\n",
              "        }\n",
              "      </script>\n",
              "    </div>\n",
              "  </div>\n",
              "  "
            ],
            "text/plain": [
              "              Age          G           MP  ...         TS%        3PAr         FTr\n",
              "count  651.000000  651.00000   651.000000  ...  649.000000  649.000000  649.000000\n",
              "mean    25.763441   38.21659   864.158218  ...    0.538361    0.392926    0.259139\n",
              "std      4.024840   22.94443   707.915007  ...    0.101114    0.212596    0.184152\n",
              "min     19.000000    1.00000     1.000000  ...    0.000000    0.000000    0.000000\n",
              "25%     23.000000   15.50000   221.000000  ...    0.504000    0.273000    0.155000\n",
              "50%     25.000000   41.00000   734.000000  ...    0.551000    0.404000    0.228000\n",
              "75%     28.000000   59.00000  1435.500000  ...    0.590000    0.526000    0.329000\n",
              "max     43.000000   74.00000  2556.000000  ...    0.902000    1.000000    2.000000\n",
              "\n",
              "[8 rows x 7 columns]"
            ]
          },
          "metadata": {},
          "execution_count": 60
        }
      ]
    },
    {
      "cell_type": "code",
      "source": [
        "num_df.mean()"
      ],
      "metadata": {
        "colab": {
          "base_uri": "https://localhost:8080/"
        },
        "id": "qL4XzbBALVPU",
        "outputId": "5eab6218-52e7-44b4-f0ed-d4af94ab76e6"
      },
      "execution_count": null,
      "outputs": [
        {
          "output_type": "execute_result",
          "data": {
            "text/plain": [
              "Age      25.763441\n",
              "G        38.216590\n",
              "MP      864.158218\n",
              "PER      12.728111\n",
              "TS%       0.538361\n",
              "3PAr      0.392926\n",
              "FTr       0.259139\n",
              "dtype: float64"
            ]
          },
          "metadata": {},
          "execution_count": 62
        }
      ]
    },
    {
      "cell_type": "code",
      "source": [
        "num_df.median()"
      ],
      "metadata": {
        "colab": {
          "base_uri": "https://localhost:8080/"
        },
        "id": "AQ1B63irLgw3",
        "outputId": "d0cd2904-733b-4bfe-83db-fcd90f86deb3"
      },
      "execution_count": null,
      "outputs": [
        {
          "output_type": "execute_result",
          "data": {
            "text/plain": [
              "Age      25.000\n",
              "G        41.000\n",
              "MP      734.000\n",
              "PER      12.500\n",
              "TS%       0.551\n",
              "3PAr      0.404\n",
              "FTr       0.228\n",
              "dtype: float64"
            ]
          },
          "metadata": {},
          "execution_count": 63
        }
      ]
    },
    {
      "cell_type": "code",
      "source": [
        "num_df.mode()"
      ],
      "metadata": {
        "colab": {
          "base_uri": "https://localhost:8080/",
          "height": 112
        },
        "id": "nRtWeQXY2nHv",
        "outputId": "e735abd3-a364-4018-d392-54312fc0060e"
      },
      "execution_count": null,
      "outputs": [
        {
          "output_type": "execute_result",
          "data": {
            "text/html": [
              "\n",
              "  <div id=\"df-c2b43036-17fa-427c-9bad-5e5f071d2829\">\n",
              "    <div class=\"colab-df-container\">\n",
              "      <div>\n",
              "<style scoped>\n",
              "    .dataframe tbody tr th:only-of-type {\n",
              "        vertical-align: middle;\n",
              "    }\n",
              "\n",
              "    .dataframe tbody tr th {\n",
              "        vertical-align: top;\n",
              "    }\n",
              "\n",
              "    .dataframe thead th {\n",
              "        text-align: right;\n",
              "    }\n",
              "</style>\n",
              "<table border=\"1\" class=\"dataframe\">\n",
              "  <thead>\n",
              "    <tr style=\"text-align: right;\">\n",
              "      <th></th>\n",
              "      <th>Age</th>\n",
              "      <th>G</th>\n",
              "      <th>MP</th>\n",
              "      <th>PER</th>\n",
              "      <th>TS%</th>\n",
              "      <th>3PAr</th>\n",
              "      <th>FTr</th>\n",
              "    </tr>\n",
              "  </thead>\n",
              "  <tbody>\n",
              "    <tr>\n",
              "      <th>0</th>\n",
              "      <td>22</td>\n",
              "      <td>58</td>\n",
              "      <td>33.0</td>\n",
              "      <td>11.3</td>\n",
              "      <td>0.553</td>\n",
              "      <td>0.0</td>\n",
              "      <td>0.0</td>\n",
              "    </tr>\n",
              "    <tr>\n",
              "      <th>1</th>\n",
              "      <td>24</td>\n",
              "      <td>62</td>\n",
              "      <td>NaN</td>\n",
              "      <td>NaN</td>\n",
              "      <td>NaN</td>\n",
              "      <td>NaN</td>\n",
              "      <td>NaN</td>\n",
              "    </tr>\n",
              "  </tbody>\n",
              "</table>\n",
              "</div>\n",
              "      <button class=\"colab-df-convert\" onclick=\"convertToInteractive('df-c2b43036-17fa-427c-9bad-5e5f071d2829')\"\n",
              "              title=\"Convert this dataframe to an interactive table.\"\n",
              "              style=\"display:none;\">\n",
              "        \n",
              "  <svg xmlns=\"http://www.w3.org/2000/svg\" height=\"24px\"viewBox=\"0 0 24 24\"\n",
              "       width=\"24px\">\n",
              "    <path d=\"M0 0h24v24H0V0z\" fill=\"none\"/>\n",
              "    <path d=\"M18.56 5.44l.94 2.06.94-2.06 2.06-.94-2.06-.94-.94-2.06-.94 2.06-2.06.94zm-11 1L8.5 8.5l.94-2.06 2.06-.94-2.06-.94L8.5 2.5l-.94 2.06-2.06.94zm10 10l.94 2.06.94-2.06 2.06-.94-2.06-.94-.94-2.06-.94 2.06-2.06.94z\"/><path d=\"M17.41 7.96l-1.37-1.37c-.4-.4-.92-.59-1.43-.59-.52 0-1.04.2-1.43.59L10.3 9.45l-7.72 7.72c-.78.78-.78 2.05 0 2.83L4 21.41c.39.39.9.59 1.41.59.51 0 1.02-.2 1.41-.59l7.78-7.78 2.81-2.81c.8-.78.8-2.07 0-2.86zM5.41 20L4 18.59l7.72-7.72 1.47 1.35L5.41 20z\"/>\n",
              "  </svg>\n",
              "      </button>\n",
              "      \n",
              "  <style>\n",
              "    .colab-df-container {\n",
              "      display:flex;\n",
              "      flex-wrap:wrap;\n",
              "      gap: 12px;\n",
              "    }\n",
              "\n",
              "    .colab-df-convert {\n",
              "      background-color: #E8F0FE;\n",
              "      border: none;\n",
              "      border-radius: 50%;\n",
              "      cursor: pointer;\n",
              "      display: none;\n",
              "      fill: #1967D2;\n",
              "      height: 32px;\n",
              "      padding: 0 0 0 0;\n",
              "      width: 32px;\n",
              "    }\n",
              "\n",
              "    .colab-df-convert:hover {\n",
              "      background-color: #E2EBFA;\n",
              "      box-shadow: 0px 1px 2px rgba(60, 64, 67, 0.3), 0px 1px 3px 1px rgba(60, 64, 67, 0.15);\n",
              "      fill: #174EA6;\n",
              "    }\n",
              "\n",
              "    [theme=dark] .colab-df-convert {\n",
              "      background-color: #3B4455;\n",
              "      fill: #D2E3FC;\n",
              "    }\n",
              "\n",
              "    [theme=dark] .colab-df-convert:hover {\n",
              "      background-color: #434B5C;\n",
              "      box-shadow: 0px 1px 3px 1px rgba(0, 0, 0, 0.15);\n",
              "      filter: drop-shadow(0px 1px 2px rgba(0, 0, 0, 0.3));\n",
              "      fill: #FFFFFF;\n",
              "    }\n",
              "  </style>\n",
              "\n",
              "      <script>\n",
              "        const buttonEl =\n",
              "          document.querySelector('#df-c2b43036-17fa-427c-9bad-5e5f071d2829 button.colab-df-convert');\n",
              "        buttonEl.style.display =\n",
              "          google.colab.kernel.accessAllowed ? 'block' : 'none';\n",
              "\n",
              "        async function convertToInteractive(key) {\n",
              "          const element = document.querySelector('#df-c2b43036-17fa-427c-9bad-5e5f071d2829');\n",
              "          const dataTable =\n",
              "            await google.colab.kernel.invokeFunction('convertToInteractive',\n",
              "                                                     [key], {});\n",
              "          if (!dataTable) return;\n",
              "\n",
              "          const docLinkHtml = 'Like what you see? Visit the ' +\n",
              "            '<a target=\"_blank\" href=https://colab.research.google.com/notebooks/data_table.ipynb>data table notebook</a>'\n",
              "            + ' to learn more about interactive tables.';\n",
              "          element.innerHTML = '';\n",
              "          dataTable['output_type'] = 'display_data';\n",
              "          await google.colab.output.renderOutput(dataTable, element);\n",
              "          const docLink = document.createElement('div');\n",
              "          docLink.innerHTML = docLinkHtml;\n",
              "          element.appendChild(docLink);\n",
              "        }\n",
              "      </script>\n",
              "    </div>\n",
              "  </div>\n",
              "  "
            ],
            "text/plain": [
              "   Age   G    MP   PER    TS%  3PAr  FTr\n",
              "0   22  58  33.0  11.3  0.553   0.0  0.0\n",
              "1   24  62   NaN   NaN    NaN   NaN  NaN"
            ]
          },
          "metadata": {},
          "execution_count": 61
        }
      ]
    },
    {
      "cell_type": "code",
      "source": [
        "#filtering AGE values between Q1-1.5IQR AND Q3+1.5IQR\n",
        "f1_df = num_df['Age']>= 35.5\n",
        "f2_df = num_df[f1_df]\n",
        "\n",
        "f3_df = num_df['Age']<= 15.5\n",
        "f4_df = num_df[f3_df]\n",
        "print(f2_df)\n",
        "print(f4_df)"
      ],
      "metadata": {
        "colab": {
          "base_uri": "https://localhost:8080/"
        },
        "id": "9IpkFBco25xo",
        "outputId": "86f7bba4-f810-415e-d614-c24178904f8f"
      },
      "execution_count": null,
      "outputs": [
        {
          "output_type": "stream",
          "name": "stdout",
          "text": [
            "     Age   G   MP   PER    TS%   3PAr    FTr\n",
            "111   43  60  876   7.5  0.470  0.664  0.095\n",
            "118   37  26  219  10.8  0.717  0.000  0.722\n",
            "152   39   1    6  33.2  0.625  0.500  0.000\n",
            "269   39   4   44   6.5  0.470  0.273  0.364\n",
            "304   36  21  418  10.5  0.507  0.534  0.170\n",
            "357   38  58  960  11.3  0.620  0.809  0.140\n",
            "Empty DataFrame\n",
            "Columns: [Age, G, MP, PER, TS%, 3PAr, FTr]\n",
            "Index: []\n"
          ]
        }
      ]
    },
    {
      "cell_type": "code",
      "source": [
        "#filtering True Shooting % values between Q1-1.5IQR AND Q3+1.5IQR\n",
        "f1_df = num_df['TS%']>= .719\n",
        "f2_df = num_df[f1_df]\n",
        "\n",
        "f3_df = num_df['TS%']<= .375\n",
        "f4_df = num_df[f3_df]\n",
        "print(f2_df)\n",
        "print(f4_df)"
      ],
      "metadata": {
        "colab": {
          "base_uri": "https://localhost:8080/"
        },
        "id": "JmxWPVWpRMeg",
        "outputId": "21d57932-5845-4310-e7f8-878ee5c01b28"
      },
      "execution_count": null,
      "outputs": [
        {
          "output_type": "stream",
          "name": "stdout",
          "text": [
            "     Age   G    MP   PER    TS%   3PAr    FTr\n",
            "13    22   5    20  16.3  0.902  0.000  0.667\n",
            "142   22  13    54  19.4  0.741  0.000  0.667\n",
            "143   22  11    35  23.9  0.752  0.000  0.600\n",
            "202   24   7    33  28.4  0.751  0.000  0.214\n",
            "419   25   1    19  13.9  0.773  0.000  0.667\n",
            "440   24  13    41  28.5  0.774  0.067  0.467\n",
            "497   21   4    11  33.1  0.765  0.400  0.400\n",
            "523   21  61  1412  23.5  0.726  0.000  0.434\n",
            "558   23   2     6  30.7  0.727  0.333  0.333\n",
            "600   24   7    30  17.6  0.838  0.167  0.667\n",
            "602   23  12    71  13.9  0.744  0.308  0.077\n",
            "637   22  29   388  23.1  0.728  0.000  0.386\n",
            "     Age   G   MP   PER    TS%   3PAr    FTr\n",
            "9     26  10  107   3.2  0.352  0.763  0.105\n",
            "11    31   2   14   9.4  0.357  0.714  0.000\n",
            "64    24   3   33   7.9  0.338  0.375  0.250\n",
            "66    22  10   53   0.8  0.300  0.500  0.000\n",
            "70    21   6   31   0.1  0.300  0.200  0.000\n",
            "75    21   9   53   3.2  0.351  0.409  0.227\n",
            "120   24   4   33  -2.9  0.127  0.571  0.286\n",
            "135   25  11   46   2.5  0.340  0.214  0.357\n",
            "189   23   5   15  -1.3  0.143  0.571  0.000\n",
            "198   22   2    4  -9.6  0.000  1.000  0.000\n",
            "251   24  11   81   3.1  0.298  0.567  0.267\n",
            "261   22   3    8  -5.3  0.250  0.500  0.000\n",
            "281   23  10   52   5.0  0.315  0.741  0.000\n",
            "299   26   2   13 -12.7  0.000  1.000  0.000\n",
            "320   26  18   74   8.9  0.372  0.000  1.000\n",
            "344   27   4   15 -13.7  0.000  0.333  0.000\n",
            "364   24   8   62   3.7  0.363  0.389  0.333\n",
            "429   22   4   19   8.1  0.250  0.500  0.000\n",
            "454   22   1    4 -11.4  0.347  0.500  1.000\n",
            "459   22   2    5  -5.6  0.000  0.000  0.000\n",
            "478   24   3   15   8.4  0.340  0.400  0.400\n",
            "493   24  33  365   5.2  0.370  0.516  0.103\n",
            "514   28   7   87   5.4  0.335  0.483  0.069\n",
            "524   21   3   11  -7.7  0.000  0.000  0.000\n",
            "554   34   6   79   0.0  0.372  0.500  0.091\n",
            "555   20   7   32   1.1  0.313  0.273  0.364\n",
            "578   34   9   82   0.2  0.252  0.882  0.118\n",
            "589   26   4   14  -0.1  0.254  0.571  0.286\n",
            "597   23   9   83   1.2  0.297  0.730  0.000\n",
            "620   25   2   17  -7.1  0.000  0.429  0.000\n",
            "622   23  11   78   3.2  0.336  0.294  0.118\n",
            "648   30   2    4  22.4  0.250  0.000  0.000\n"
          ]
        }
      ]
    },
    {
      "cell_type": "code",
      "source": [
        "num_df.plot.scatter(\n",
        "    x = 'PER',\n",
        "    y = 'MP'\n",
        ");"
      ],
      "metadata": {
        "colab": {
          "base_uri": "https://localhost:8080/",
          "height": 279
        },
        "id": "5znB_-TjSqpY",
        "outputId": "8deb8056-abe4-4f3b-d46e-46ea23d434b3"
      },
      "execution_count": null,
      "outputs": [
        {
          "output_type": "display_data",
          "data": {
            "image/png": "[encoded data removed]",
            "text/plain": [
              "<Figure size 432x288 with 1 Axes>"
            ]
          },
          "metadata": {
            "needs_background": "light"
          }
        }
      ]
    },
    {
      "cell_type": "code",
      "source": [
        "num_df.boxplot(column=['3PAr', 'FTr']);"
      ],
      "metadata": {
        "colab": {
          "base_uri": "https://localhost:8080/",
          "height": 265
        },
        "id": "JDH2cTAfUV_2",
        "outputId": "2ff2e5ab-60cf-42a0-dbf1-0f346301d267"
      },
      "execution_count": null,
      "outputs": [
        {
          "output_type": "display_data",
          "data": {
            "image/png": "[encoded data removed]",
            "text/plain": [
              "<Figure size 432x288 with 1 Axes>"
            ]
          },
          "metadata": {
            "needs_background": "light"
          }
        }
      ]
    }
  ]
}